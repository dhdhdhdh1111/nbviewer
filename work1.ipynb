{
 "cells": [
  {
   "cell_type": "markdown",
   "metadata": {},
   "source": [
    "C521042 양대현\n",
    "\n",
    "# 변수와 입출력\n",
    "\n",
    "변수의 선언과 사용\n",
    "\n",
    "변수의 생성"
   ]
  },
  {
   "cell_type": "code",
   "execution_count": 1,
   "metadata": {},
   "outputs": [
    {
     "name": "stdout",
     "output_type": "stream",
     "text": [
      "산업데이터공학\n",
      "2180665304336\n",
      "산업데이터공학과\n",
      "2180665309616\n"
     ]
    }
   ],
   "source": [
    "var_x = '산업데이터공학' # var_x 변수를 선언하여 문자열 데이터 '산업데이터공학'을 저장함.\n",
    "print(var_x) # var_x 에 저장된 값을 출력. => '산업데이터공학'이 출력됨.\n",
    "print(id(var_x)) # var_x 의 메모리 내의 주소를 출력. => 주소가 출력됨.\n",
    "\n",
    "var_x='산업데이터공학과' # 변수 var_x의 값을 '산업데이터공학과'로 수정.\n",
    "print(var_x) # var_x 에 저장된 값을 출력. => 바꾼대로 '산업데이터공학과'가 출력됨.\n",
    "print(id(var_x)) # var_x 의 메모리 내의 주소를 출력. => 아까와 다른 주소가 출력됨. 즉, 수정된 것으로 보일 뿐 새로운 데이터로 주소가 바뀐 것."
   ]
  },
  {
   "cell_type": "code",
   "execution_count": 2,
   "metadata": {},
   "outputs": [
    {
     "name": "stdout",
     "output_type": "stream",
     "text": [
      "산업데이터공학과\n",
      "2180665309856\n"
     ]
    }
   ],
   "source": [
    "var_y='산업데이터공학과' # var_y 변수를 선언하여 문자열 데이터 '산업데이터공학과'를 저장함.\n",
    "print(var_y) # var_y 에 저장된 값을 출력. => '산업데이터공학과'가 출력됨.\n",
    "print(id(var_y)) # var_y가 var_x와 같은 데이터를 가졌음에도 다른 주소가 출력됨."
   ]
  },
  {
   "cell_type": "markdown",
   "metadata": {},
   "source": [
    "현재 사용중인 변수 확인\n",
    "\n",
    "Ipython"
   ]
  },
  {
   "cell_type": "code",
   "execution_count": 3,
   "metadata": {},
   "outputs": [
    {
     "data": {
      "application/json": {
       "cell": {
        "!": "OSMagics",
        "HTML": "Other",
        "SVG": "Other",
        "bash": "Other",
        "capture": "ExecutionMagics",
        "cmd": "Other",
        "code_wrap": "ExecutionMagics",
        "debug": "ExecutionMagics",
        "file": "Other",
        "html": "DisplayMagics",
        "javascript": "DisplayMagics",
        "js": "DisplayMagics",
        "latex": "DisplayMagics",
        "markdown": "DisplayMagics",
        "perl": "Other",
        "prun": "ExecutionMagics",
        "pypy": "Other",
        "python": "Other",
        "python2": "Other",
        "python3": "Other",
        "ruby": "Other",
        "script": "ScriptMagics",
        "sh": "Other",
        "svg": "DisplayMagics",
        "sx": "OSMagics",
        "system": "OSMagics",
        "time": "ExecutionMagics",
        "timeit": "ExecutionMagics",
        "writefile": "OSMagics"
       },
       "line": {
        "alias": "OSMagics",
        "alias_magic": "BasicMagics",
        "autoawait": "AsyncMagics",
        "autocall": "AutoMagics",
        "automagic": "AutoMagics",
        "autosave": "KernelMagics",
        "bookmark": "OSMagics",
        "cd": "OSMagics",
        "clear": "KernelMagics",
        "cls": "KernelMagics",
        "code_wrap": "ExecutionMagics",
        "colors": "BasicMagics",
        "conda": "PackagingMagics",
        "config": "ConfigMagics",
        "connect_info": "KernelMagics",
        "copy": "Other",
        "ddir": "Other",
        "debug": "ExecutionMagics",
        "dhist": "OSMagics",
        "dirs": "OSMagics",
        "doctest_mode": "BasicMagics",
        "echo": "Other",
        "ed": "Other",
        "edit": "KernelMagics",
        "env": "OSMagics",
        "gui": "BasicMagics",
        "hist": "Other",
        "history": "HistoryMagics",
        "killbgscripts": "ScriptMagics",
        "ldir": "Other",
        "less": "KernelMagics",
        "load": "CodeMagics",
        "load_ext": "ExtensionMagics",
        "loadpy": "CodeMagics",
        "logoff": "LoggingMagics",
        "logon": "LoggingMagics",
        "logstart": "LoggingMagics",
        "logstate": "LoggingMagics",
        "logstop": "LoggingMagics",
        "ls": "Other",
        "lsmagic": "BasicMagics",
        "macro": "ExecutionMagics",
        "magic": "BasicMagics",
        "mamba": "PackagingMagics",
        "matplotlib": "PylabMagics",
        "micromamba": "PackagingMagics",
        "mkdir": "Other",
        "more": "KernelMagics",
        "notebook": "BasicMagics",
        "page": "BasicMagics",
        "pastebin": "CodeMagics",
        "pdb": "ExecutionMagics",
        "pdef": "NamespaceMagics",
        "pdoc": "NamespaceMagics",
        "pfile": "NamespaceMagics",
        "pinfo": "NamespaceMagics",
        "pinfo2": "NamespaceMagics",
        "pip": "PackagingMagics",
        "popd": "OSMagics",
        "pprint": "BasicMagics",
        "precision": "BasicMagics",
        "prun": "ExecutionMagics",
        "psearch": "NamespaceMagics",
        "psource": "NamespaceMagics",
        "pushd": "OSMagics",
        "pwd": "OSMagics",
        "pycat": "OSMagics",
        "pylab": "PylabMagics",
        "qtconsole": "KernelMagics",
        "quickref": "BasicMagics",
        "recall": "HistoryMagics",
        "rehashx": "OSMagics",
        "reload_ext": "ExtensionMagics",
        "ren": "Other",
        "rep": "Other",
        "rerun": "HistoryMagics",
        "reset": "NamespaceMagics",
        "reset_selective": "NamespaceMagics",
        "rmdir": "Other",
        "run": "ExecutionMagics",
        "save": "CodeMagics",
        "sc": "OSMagics",
        "set_env": "OSMagics",
        "store": "StoreMagics",
        "sx": "OSMagics",
        "system": "OSMagics",
        "tb": "ExecutionMagics",
        "time": "ExecutionMagics",
        "timeit": "ExecutionMagics",
        "unalias": "OSMagics",
        "unload_ext": "ExtensionMagics",
        "uv": "PackagingMagics",
        "who": "NamespaceMagics",
        "who_ls": "NamespaceMagics",
        "whos": "NamespaceMagics",
        "xdel": "NamespaceMagics",
        "xmode": "BasicMagics"
       }
      },
      "text/plain": [
       "Available line magics:\n",
       "%alias  %alias_magic  %autoawait  %autocall  %automagic  %autosave  %bookmark  %cd  %clear  %cls  %code_wrap  %colors  %conda  %config  %connect_info  %copy  %ddir  %debug  %dhist  %dirs  %doctest_mode  %echo  %ed  %edit  %env  %gui  %hist  %history  %killbgscripts  %ldir  %less  %load  %load_ext  %loadpy  %logoff  %logon  %logstart  %logstate  %logstop  %ls  %lsmagic  %macro  %magic  %mamba  %matplotlib  %micromamba  %mkdir  %more  %notebook  %page  %pastebin  %pdb  %pdef  %pdoc  %pfile  %pinfo  %pinfo2  %pip  %popd  %pprint  %precision  %prun  %psearch  %psource  %pushd  %pwd  %pycat  %pylab  %qtconsole  %quickref  %recall  %rehashx  %reload_ext  %ren  %rep  %rerun  %reset  %reset_selective  %rmdir  %run  %save  %sc  %set_env  %store  %sx  %system  %tb  %time  %timeit  %unalias  %unload_ext  %uv  %who  %who_ls  %whos  %xdel  %xmode\n",
       "\n",
       "Available cell magics:\n",
       "%%!  %%HTML  %%SVG  %%bash  %%capture  %%cmd  %%code_wrap  %%debug  %%file  %%html  %%javascript  %%js  %%latex  %%markdown  %%perl  %%prun  %%pypy  %%python  %%python2  %%python3  %%ruby  %%script  %%sh  %%svg  %%sx  %%system  %%time  %%timeit  %%writefile\n",
       "\n",
       "Automagic is ON, % prefix IS NOT needed for line magics."
      ]
     },
     "execution_count": 3,
     "metadata": {},
     "output_type": "execute_result"
    }
   ],
   "source": [
    "# %lsmagic 모든 매직 명령어 확인.\n",
    "%lsmagic"
   ]
  },
  {
   "cell_type": "code",
   "execution_count": 4,
   "metadata": {},
   "outputs": [
    {
     "data": {
      "text/plain": [
       "'c:\\\\Users\\\\yany0\\\\Documents'"
      ]
     },
     "execution_count": 4,
     "metadata": {},
     "output_type": "execute_result"
    }
   ],
   "source": [
    "# %pwd -> 현재 디렉토리 확인.\n",
    "%pwd"
   ]
  },
  {
   "cell_type": "code",
   "execution_count": 5,
   "metadata": {},
   "outputs": [
    {
     "name": "stdout",
     "output_type": "stream",
     "text": [
      " C ����̺��� ����: Windows\n",
      " ���� �Ϸ� ��ȣ: 0891-8832\n",
      "\n",
      " c:\\Users\\yany0\\Documents ���͸�\n",
      "\n",
      "2025-04-06  ���� 02:42    <DIR>          .\n",
      "2025-04-03  ���� 03:04    <DIR>          ..\n",
      "2025-03-18  ���� 06:46    <DIR>          hobby\n",
      "2025-03-19  ���� 06:31    <DIR>          html css �ǽ�\n",
      "2025-04-01  ���� 09:08            12,822 note_PY03.ipynb\n",
      "2025-04-01  ���� 11:41            15,075 note_PY07.ipynb\n",
      "2025-03-18  ���� 07:08    <DIR>          personal_study\n",
      "2025-03-11  ���� 10:00               971 test1.ipynb\n",
      "2025-04-06  ���� 02:13            19,025 ���̽����α׷���_����1��_ȫ�ʹ��б�_C521042_�����.ipynb\n",
      "2025-04-06  ���� 06:02            10,588 ���̽����α׷���_����2��_ȫ�ʹ��б�_C521042_�����.ipynb\n",
      "2025-04-06  ���� 06:21            12,818 ���̽����α׷���_����3��_ȫ�ʹ��б�_C521042_�����.ipynb\n",
      "               6�� ����              71,299 ����Ʈ\n",
      "               5�� ���͸�  838,678,802,432 ����Ʈ ����\n"
     ]
    }
   ],
   "source": [
    "# %ls -> 현재 디렉토리의 파일 목록.\n",
    "%ls"
   ]
  },
  {
   "cell_type": "code",
   "execution_count": 6,
   "metadata": {},
   "outputs": [
    {
     "name": "stdout",
     "output_type": "stream",
     "text": [
      "var_x\t var_y\t \n"
     ]
    }
   ],
   "source": [
    "# %who -> 현재 커널에서 사용중인 변수 목록.\n",
    "%who"
   ]
  },
  {
   "cell_type": "code",
   "execution_count": 7,
   "metadata": {},
   "outputs": [
    {
     "name": "stdout",
     "output_type": "stream",
     "text": [
      "Variable   Type    Data/Info\n",
      "----------------------------\n",
      "var_x      str     산업데이터공학과\n",
      "var_y      str     산업데이터공학과\n"
     ]
    }
   ],
   "source": [
    "# %whos -> 현재 커널에서 사용중인 변수 목록, 데이터 타입, 값.\n",
    "%whos"
   ]
  },
  {
   "cell_type": "markdown",
   "metadata": {},
   "source": [
    "변수의 삭제"
   ]
  },
  {
   "cell_type": "code",
   "execution_count": 8,
   "metadata": {},
   "outputs": [
    {
     "name": "stdout",
     "output_type": "stream",
     "text": [
      "Variable   Type    Data/Info\n",
      "----------------------------\n",
      "var_x      str     산업데이터공학과\n",
      "var_y      str     산업데이터공학과\n",
      "var_z1     int     123\n",
      "var_z2     list    n=5\n"
     ]
    }
   ],
   "source": [
    "var_z1 = 123 # var_z1 변수를 선언하고 정수 123을 저장.\n",
    "var_z2 =[1,2,3,4,5] # var_z2 변수를 선언하고 리스트를 저장.\n",
    "\n",
    "# 변수들을 확인. 위의 코드들까지 같이하여 var_x, var_y, var_z1, var_z2 변수의 정보가 출력됨.\n",
    "%whos"
   ]
  },
  {
   "cell_type": "code",
   "execution_count": 9,
   "metadata": {},
   "outputs": [
    {
     "name": "stdout",
     "output_type": "stream",
     "text": [
      "Variable   Type    Data/Info\n",
      "----------------------------\n",
      "var_y      str     산업데이터공학과\n",
      "var_z1     int     123\n",
      "var_z2     list    n=5\n"
     ]
    }
   ],
   "source": [
    "del var_x # del 명령어로 var_x 변수를 삭제.\n",
    "\n",
    "#var_x가 삭제됐는지 확인. var_x의 정보는 출력되지 않는 것을 볼 수 있음.\n",
    "%whos "
   ]
  },
  {
   "cell_type": "code",
   "execution_count": 10,
   "metadata": {},
   "outputs": [
    {
     "name": "stdout",
     "output_type": "stream",
     "text": [
      "No variables match your requested type.\n"
     ]
    }
   ],
   "source": [
    "del var_y, var_z1, var_z2 # 변수 여러 개를 같이 삭제. 이로서 모든 변수가 삭제됨.\n",
    "\n",
    "%whos # 변수들이 삭제됐는지 확인. 모든 변수가 삭제되었기에 변수가 존재하지 않는다는 메시지를 확인할 수 있음."
   ]
  },
  {
   "cell_type": "markdown",
   "metadata": {},
   "source": [
    "데이터의 입출력\n",
    "\n",
    "콘솔 입출력\n",
    "\n",
    "input() 함수"
   ]
  },
  {
   "cell_type": "code",
   "execution_count": 11,
   "metadata": {},
   "outputs": [
    {
     "name": "stdout",
     "output_type": "stream",
     "text": [
      "var_x = '123'\n",
      "type(var_x) = <class 'str'>\n"
     ]
    }
   ],
   "source": [
    "var_x=input('데이터를 입력하세요: ') # 사용자로부터 데이터를 입력받기를 기다림. 이후 데이터를 var_x에 저장.\n",
    "\n",
    "print(f'{var_x = }') # f-스트링을 이용하여 var_x의 값을 출력.\n",
    "print(f'{type(var_x) = }') # f-스트링과 type함수를 이용하여 var_x의 자료형을 출력. => str 출력됨"
   ]
  },
  {
   "cell_type": "code",
   "execution_count": 12,
   "metadata": {},
   "outputs": [
    {
     "name": "stdout",
     "output_type": "stream",
     "text": [
      "123\n",
      "<class 'int'>\n"
     ]
    }
   ],
   "source": [
    "var_y= int(input('숫자를 입력하세요: ')) # 사용자로부터 입력받는 데이터는 문자열이 되므로, int함수로 정수형으로 변환하여 var_y에 저장.\n",
    "\n",
    "print(var_y) # var_y 의 데이터 출력.\n",
    "print(type(var_y)) # var_y 의 데이터 타입 출력."
   ]
  },
  {
   "cell_type": "markdown",
   "metadata": {},
   "source": [
    "print() 함수"
   ]
  },
  {
   "cell_type": "code",
   "execution_count": 13,
   "metadata": {},
   "outputs": [
    {
     "name": "stdout",
     "output_type": "stream",
     "text": [
      "10\n",
      "10 산업데이터공학과 3.14 True\n",
      "10|산업데이터공학과|3.14|True\n",
      "10|산업데이터공학과|3.14|True\t*************\n"
     ]
    }
   ],
   "source": [
    "print(10)\n",
    "print(10, '산업데이터공학과', 3.14, True) # ',' 사용해서 여러 데이터를 같이 출력.\n",
    "print(10, '산업데이터공학과', 3.14, True, sep='|') #sep는 분리자. 기본값은 스페이스.\n",
    "print(10, '산업데이터공학과', 3.14, True, sep='|', end='\\t*************\\n') #end는 끝. 기본값은 \\n"
   ]
  },
  {
   "cell_type": "markdown",
   "metadata": {},
   "source": [
    "### 이스케이프 문자.\n",
    "\\n 줄바꿈\n",
    "\\t 탭\n",
    "\\\\ 역슬래시 출력\n",
    "\\' 따옴표 출력."
   ]
  },
  {
   "cell_type": "code",
   "execution_count": 14,
   "metadata": {},
   "outputs": [
    {
     "name": "stdout",
     "output_type": "stream",
     "text": [
      "이름: 홍길동\n",
      "학번: 20210000\n",
      "학과: 산업데이터공학과\n"
     ]
    }
   ],
   "source": [
    "print('이름: 홍길동\\n학번: 20210000\\n학과: 산업데이터공학과')"
   ]
  },
  {
   "cell_type": "code",
   "execution_count": 15,
   "metadata": {},
   "outputs": [
    {
     "name": "stdout",
     "output_type": "stream",
     "text": [
      "이름\t학번\t\t학과\n",
      "홍길동\t20210000\t산업데이터공학과\t\n",
      "김강\t20210001\t경영학과\n"
     ]
    }
   ],
   "source": [
    "print('이름\\t학번\\t\\t학과')\n",
    "print('홍길동\\t20210000\\t산업데이터공학과\\t')\n",
    "print('김강\\t20210001\\t경영학과')"
   ]
  },
  {
   "cell_type": "markdown",
   "metadata": {},
   "source": [
    "f-string 사용법"
   ]
  },
  {
   "cell_type": "code",
   "execution_count": 16,
   "metadata": {},
   "outputs": [
    {
     "name": "stdout",
     "output_type": "stream",
     "text": [
      "54321\n",
      "-------------------------\n",
      "var_y = 54321\n",
      "-------------------------\n",
      "var_y = 54321\n"
     ]
    }
   ],
   "source": [
    "var_y = 54321\n",
    "\n",
    "print(f'{var_y}', end='\\n-------------------------\\n') # var_y의 데이터 출력.\n",
    "print(f'{var_y = }', end='\\n-------------------------\\n') # var_y라는 변수 이름과, 그 값을 출력.\n",
    "print(f'var_y = {var_y}') # 윗줄과 같음."
   ]
  },
  {
   "cell_type": "code",
   "execution_count": 17,
   "metadata": {},
   "outputs": [
    {
     "name": "stdout",
     "output_type": "stream",
     "text": [
      "var_x는 정수형이므로 d를 사용하여야 하고, 54321입니다.\n",
      "var_x를 총 20개의 자리에 표현하면,                54321입니다.\n",
      "var_x를 총 20개의 자리에 왼쪽 정렬하여 표현하면, 54321               입니다.\n",
      "var_y는 실수형이므로 f를 사용하여야 하고, 54321.123457입니다.\n",
      "var_y를 정수만 출력하면 54321입니다.\n",
      "var_y를 소수점 5자리까지 출력하면 54321.12346입니다.\n",
      "var_y를 20자리에 가운데 정렬하여 소수점 3자리까지 출력하면      54321.123      입니다.\n"
     ]
    }
   ],
   "source": [
    "#서식 지정하기.\n",
    "    #정렬기호: 없으면 왼쪽, ^ 가운데, > 오른쪽\n",
    "    #서식지정자: 문자열 s, 정수 d, 실수 f.\n",
    "\n",
    "var_x=54321\n",
    "var_y=54321.123456789\n",
    "\n",
    "print(f'var_x는 정수형이므로 d를 사용하여야 하고, {var_x:d}입니다.')\n",
    "print(f'var_x를 총 20개의 자리에 표현하면, {var_x:20d}입니다.')\n",
    "print(f'var_x를 총 20개의 자리에 왼쪽 정렬하여 표현하면, {var_x:<20d}입니다.')\n",
    "print(f'var_y는 실수형이므로 f를 사용하여야 하고, {var_y:f}입니다.')\n",
    "print(f'var_y를 정수만 출력하면 {var_y:.0f}입니다.')\n",
    "print(f'var_y를 소수점 5자리까지 출력하면 {var_y:.5f}입니다.')\n",
    "print(f'var_y를 20자리에 가운데 정렬하여 소수점 3자리까지 출력하면 {var_y:^20.3f}입니다.')\n"
   ]
  },
  {
   "cell_type": "markdown",
   "metadata": {},
   "source": [
    "# 응용"
   ]
  },
  {
   "cell_type": "code",
   "execution_count": null,
   "metadata": {},
   "outputs": [
    {
     "name": "stdout",
     "output_type": "stream",
     "text": [
      "1 2\n"
     ]
    }
   ],
   "source": [
    "# 파이썬은 맨 윗 줄부터 코드를 순차적으로 읽는데, 또한 한 줄의 코드를 왼쪽부터 오른쪽으로 읽습니다.\n",
    "# 따라서 한 줄에 input이 2개 이상 있다면, 왼쪽부터 입력을 받습니다.\n",
    "print(input('첫 번째 입력'), input('두 번째 입력'))"
   ]
  },
  {
   "cell_type": "code",
   "execution_count": null,
   "metadata": {},
   "outputs": [
    {
     "name": "stdout",
     "output_type": "stream",
     "text": [
      "yourList = ['가', '나', '다']\n",
      "2번째 항목은 나\n"
     ]
    }
   ],
   "source": [
    "# 이를 이용하여 리스트를 생성하고 특정한 항목을 열람하는 간단한 코드를 만들었습니다.\n",
    "\n",
    "yourList = [input('첫 번째 항목: '), input('두 번째 항목: '), input('세 번째 항목: ')] # 한 줄로 리스트를 생성. 변수명에 camalCase 사용.\n",
    "\n",
    "print(f'{yourList = }') # f-string으로 리스트 출력\n",
    "\n",
    "n = int(input('몇 번째 항목을 열람할까요?: '))\n",
    "\n",
    "index = n-1 # 주소는 0, 1, 2 ... 로 시작하므로 n-1.\n",
    "\n",
    "print(f'{n}번째 항목은: {a[index]}') # 항목 출력."
   ]
  },
  {
   "cell_type": "code",
   "execution_count": null,
   "metadata": {},
   "outputs": [
    {
     "name": "stdout",
     "output_type": "stream",
     "text": [
      "가나다라마\t가나다라\n",
      "123\t12345\n",
      "abc\t\tabcde\n"
     ]
    }
   ],
   "source": [
    "# \\t, 탭은 특정 칸으로 문자열을 정렬하는 기능이라고도 볼 수 있습니다.\n",
    "# 첫 번째 칸에 쓰인 문자열이 두 번째 칸을 침범하면, \\t를 썼을 때 세 번째 칸으로 이동하게 됩니다.\n",
    "print('가나다라마\\t가나다라')\n",
    "print('123\\t12345')\n",
    "\n",
    "# \\t을 두 번 한 'abcde'와 '가나다라'가 줄이 맞음을 알 수 있습니다.\n",
    "print('abc\\t\\tabcde')"
   ]
  },
  {
   "cell_type": "code",
   "execution_count": null,
   "metadata": {},
   "outputs": [
    {
     "name": "stdout",
     "output_type": "stream",
     "text": [
      "1\t2\t3\t4\t5\t6\t7\t8\t9\t10\n",
      "가나다\t가나다라\t마바사\t아자차카타\t파하\t"
     ]
    }
   ],
   "source": [
    "# 이를 확인해볼 수 있는 간단한 코드를 만들었습니다.\n",
    "\n",
    "print('1\\t2\\t3\\t4\\t5\\t6\\t7\\t8\\t9\\t10')\n",
    "print(input('입력: '), end='\\t')\n",
    "print(input('입력: '), end='\\t')\n",
    "print(input('입력: '), end='\\t')\n",
    "print(input('입력: '), end='\\t')\n",
    "print(input('입력: '), end='\\t')\n",
    "\n",
    "# 한글 기준 5자부터 한 칸을 침범하게 되네요. 물론 탭 설정 등 여러 설정들에 따라 다를 것 같습니다."
   ]
  }
 ],
 "metadata": {
  "kernelspec": {
   "display_name": "base",
   "language": "python",
   "name": "python3"
  },
  "language_info": {
   "codemirror_mode": {
    "name": "ipython",
    "version": 3
   },
   "file_extension": ".py",
   "mimetype": "text/x-python",
   "name": "python",
   "nbconvert_exporter": "python",
   "pygments_lexer": "ipython3",
   "version": "3.12.8"
  }
 },
 "nbformat": 4,
 "nbformat_minor": 2
}
