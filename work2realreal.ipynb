{
 "cells": [
  {
   "cell_type": "markdown",
   "metadata": {},
   "source": [
    "C521042 양대현\n",
    "\n",
    "# 데이터 유형\n",
    "\n",
    "데이터 유형의 종류\n",
    "\n",
    "숫자: 수치형 데이터. int, float, complex.\n",
    "\n",
    "문자: 문자 또는 문자의 집합.\n",
    "\n",
    "리스트: 다양한 데이터 타입의 목록.\n",
    "\n",
    "튜플: 리스트와 유사하나 원소의 변경이 불가.\n",
    "\n",
    "딕셔너리: 키:값 조합의 데이터.\n",
    "\n",
    "집합: 중복되지 않는 데이터의 조합.\n",
    "\n",
    "불린: 참 또는 거짓. True, False\n",
    "\n",
    "None: 아무 데이터가 없음을 의미.\n",
    "\n",
    "데이터 유형의 확인"
   ]
  },
  {
   "cell_type": "code",
   "execution_count": 19,
   "metadata": {},
   "outputs": [
    {
     "name": "stdout",
     "output_type": "stream",
     "text": [
      "x_value:  12345 <class 'int'>\n"
     ]
    }
   ],
   "source": [
    "x_value = 12345\n",
    "print(\"x_value: \", x_value, type(x_value))"
   ]
  },
  {
   "cell_type": "code",
   "execution_count": 20,
   "metadata": {},
   "outputs": [
    {
     "name": "stdout",
     "output_type": "stream",
     "text": [
      "x_str:  abcde <class 'str'>\n"
     ]
    }
   ],
   "source": [
    "x_str = 'abcde'\n",
    "print(\"x_str: \", x_str, type(x_str))"
   ]
  },
  {
   "cell_type": "code",
   "execution_count": 21,
   "metadata": {},
   "outputs": [
    {
     "name": "stdout",
     "output_type": "stream",
     "text": [
      "x_list:  ['abcde', 12345] <class 'list'>\n"
     ]
    }
   ],
   "source": [
    "x_list = [x_str, x_value]\n",
    "print(\"x_list: \", x_list, type(x_list))"
   ]
  },
  {
   "cell_type": "code",
   "execution_count": 22,
   "metadata": {},
   "outputs": [
    {
     "name": "stdout",
     "output_type": "stream",
     "text": [
      "x_tuple:  ('abcde', 12345) <class 'tuple'>\n"
     ]
    }
   ],
   "source": [
    "x_tuple = (x_str, x_value)\n",
    "print(\"x_tuple: \", x_tuple, type(x_tuple))"
   ]
  },
  {
   "cell_type": "code",
   "execution_count": 23,
   "metadata": {},
   "outputs": [
    {
     "name": "stdout",
     "output_type": "stream",
     "text": [
      "x_dict:  {'name': 'Chunghun Ha', 'id': 67089} <class 'dict'>\n"
     ]
    }
   ],
   "source": [
    "x_dict = {'name': 'Chunghun Ha', 'id': 67089}\n",
    "print(\"x_dict: \", x_dict, type(x_dict))"
   ]
  },
  {
   "cell_type": "code",
   "execution_count": 24,
   "metadata": {},
   "outputs": [
    {
     "name": "stdout",
     "output_type": "stream",
     "text": [
      "x_none:  None <class 'NoneType'>\n"
     ]
    }
   ],
   "source": [
    "x_none = None\n",
    "print(\"x_none: \", x_none, type(x_none))"
   ]
  },
  {
   "cell_type": "markdown",
   "metadata": {},
   "source": [
    "변수는 객체.\n",
    "\n",
    "파이썬에서는 모든 것이 객체다. 객체는 속성과 메소드를 모아놓은 하나의 덩어리.\n",
    "객체는 클래스의 인스턴스로 생성하여 사용함. 변수는 데이터가 배정될 때 인스턴스가 생성됨.\n",
    "\n",
    "객체의 속성과 메소드 확인 방법"
   ]
  },
  {
   "cell_type": "code",
   "execution_count": 25,
   "metadata": {},
   "outputs": [
    {
     "name": "stdout",
     "output_type": "stream",
     "text": [
      "['__abs__', '__add__', '__and__', '__bool__', '__ceil__', '__class__', '__delattr__', '__dir__', '__divmod__', '__doc__', '__eq__', '__float__', '__floor__', '__floordiv__', '__format__', '__ge__', '__getattribute__', '__getnewargs__', '__getstate__', '__gt__', '__hash__', '__index__', '__init__', '__init_subclass__', '__int__', '__invert__', '__le__', '__lshift__', '__lt__', '__mod__', '__mul__', '__ne__', '__neg__', '__new__', '__or__', '__pos__', '__pow__', '__radd__', '__rand__', '__rdivmod__', '__reduce__', '__reduce_ex__', '__repr__', '__rfloordiv__', '__rlshift__', '__rmod__', '__rmul__', '__ror__', '__round__', '__rpow__', '__rrshift__', '__rshift__', '__rsub__', '__rtruediv__', '__rxor__', '__setattr__', '__sizeof__', '__str__', '__sub__', '__subclasshook__', '__truediv__', '__trunc__', '__xor__', 'as_integer_ratio', 'bit_count', 'bit_length', 'conjugate', 'denominator', 'from_bytes', 'imag', 'is_integer', 'numerator', 'real', 'to_bytes']\n"
     ]
    }
   ],
   "source": [
    "# x_value의 속성과 메서드를 출력.\n",
    "print(dir(x_value))"
   ]
  },
  {
   "cell_type": "code",
   "execution_count": 26,
   "metadata": {},
   "outputs": [
    {
     "name": "stdout",
     "output_type": "stream",
     "text": [
      "x_value.real = 12345\n",
      "x_value.bit_length() = 14\n"
     ]
    }
   ],
   "source": [
    "# x_value의 실수부(속성)를 출력\n",
    "print(f'x_value.real = {x_value.real}')\n",
    "\n",
    "# x_value의 비트 수를 계산(메서드)하여 출력\n",
    "print(f'x_value.bit_length() = {x_value.bit_length()}')"
   ]
  },
  {
   "cell_type": "markdown",
   "metadata": {},
   "source": [
    "mutable과 immutable"
   ]
  },
  {
   "cell_type": "code",
   "execution_count": 27,
   "metadata": {},
   "outputs": [
    {
     "name": "stdout",
     "output_type": "stream",
     "text": [
      "Before: x_list = ['abcde', 12345]\n",
      "After: x_list = ['abcde', 'fghij']\n"
     ]
    }
   ],
   "source": [
    "# mutable: 리스트.\n",
    "\n",
    "x_list = ['abcde', 12345]\n",
    "\n",
    "# 원소 변경전 x_list의 값을 출력\n",
    "print(f'Before: {x_list = }')\n",
    "\n",
    "# 인덱스 1 원소를 'fghij'로 변경\n",
    "x_list[1] = 'fghij'\n",
    "\n",
    "# 원소 변경후 x_list의 값을 출력\n",
    "print(f'After: {x_list = }')"
   ]
  },
  {
   "cell_type": "code",
   "execution_count": 28,
   "metadata": {},
   "outputs": [
    {
     "name": "stdout",
     "output_type": "stream",
     "text": [
      "Before: x_dict = {'name': 'Chunghun Ha', 'id': 67890}\n",
      "After: x_dict = {'name': 'Gildong Hong', 'id': 67890}\n"
     ]
    }
   ],
   "source": [
    "# mutable: 딕셔너리.\n",
    "\n",
    "x_dict = {'name': 'Chunghun Ha', 'id': 67890}\n",
    "\n",
    "# 원소 변경전 x_dict의 값을 출력\n",
    "print(f'Before: {x_dict = }')\n",
    "\n",
    "# key가 'name'인 원소를 'Gildong Hong'으로 변경\n",
    "x_dict['name'] = 'Gildong Hong'\n",
    "\n",
    "# 원소 변경후 x_dict의 값을 출력\n",
    "print(f'After: {x_dict = }')"
   ]
  },
  {
   "cell_type": "code",
   "execution_count": 29,
   "metadata": {},
   "outputs": [
    {
     "name": "stdout",
     "output_type": "stream",
     "text": [
      "Before: x_str = 'abcde'\n",
      "Error: 'str' object does not support item assignment\n",
      "After: x_str = 'abcde'\n"
     ]
    }
   ],
   "source": [
    "# immutable: 문자열. 원소 바꾸기 불가.\n",
    "\n",
    "x_str = 'abcde'\n",
    "\n",
    "# 원소 변경전 x_str의 값을 출력\n",
    "print(f'Before: {x_str = }')\n",
    "\n",
    "# try 블록 안의 코드를 실행하다가 에러가 발생하면 except 블록의 코드를 실행\n",
    "try:\n",
    "    # 인덱스 1 원소를 '2'로 변경. 문자열은 immutable 자료형이므로 에러 발생\n",
    "    x_str[1] = '2'\n",
    "except TypeError as e:  # 에러 발생시 에러 메시지를 e에 할당\n",
    "    # 에러 메시지 출력\n",
    "    print(f'Error: {e}')\n",
    "\n",
    "# 원소 변경후 x_str의 값을 출력\n",
    "print(f'After: {x_str = }')\n"
   ]
  },
  {
   "cell_type": "code",
   "execution_count": 30,
   "metadata": {},
   "outputs": [
    {
     "name": "stdout",
     "output_type": "stream",
     "text": [
      "Before: x_tuple = ('abcde', 12345)\n",
      "Error: 'tuple' object does not support item assignment\n",
      "After : x_tuple = ('abcde', 12345)\n"
     ]
    }
   ],
   "source": [
    "# immutable: 튜플. 원소 바꾸기 불가.\n",
    "\n",
    "x_tuple = ('abcde', 12345)\n",
    "\n",
    "# 원소 변경 전 x_tuple의 값을 출력\n",
    "print(f'Before: {x_tuple = }')\n",
    "\n",
    "# try 블록 안의 코드를 실행하다가 에러가 발생하면 except 블록의 코드를 실행\n",
    "try:\n",
    "    # 인덱스 1 원소를 'fghij'로 변경. 튜플은 불변(immutable) 자료형이므로 에러 발생\n",
    "    x_tuple[1] = 'fghij'\n",
    "except TypeError as e:\n",
    "    print(f'Error: {e}')\n",
    "\n",
    "# 원소 변경 후 x_tuple의 값을 출력\n",
    "print(f'After : {x_tuple = }')"
   ]
  },
  {
   "cell_type": "markdown",
   "metadata": {},
   "source": [
    "자료형 변환\n",
    "\n",
    "단일 자료형 변환 함수."
   ]
  },
  {
   "cell_type": "code",
   "execution_count": 31,
   "metadata": {},
   "outputs": [
    {
     "name": "stdout",
     "output_type": "stream",
     "text": [
      "12345는 <class 'int'>\n",
      "------------------------------\n",
      "12345.0는 <class 'float'>\n",
      "------------------------------\n",
      "12345는 <class 'str'>\n",
      "------------------------------\n",
      "True는 <class 'bool'>\n"
     ]
    }
   ],
   "source": [
    "# var_x에 정수 12345를 할당\n",
    "var_x = 12345\n",
    "\n",
    "# var_x의 값과 자료형을 출력\n",
    "# 마지막(end=)에 줄바꿈('\\n')과 구분선('-' 30개) 그리고 줄바꿈('\\n')을 추가\n",
    "print(f'{var_x}는 {type(var_x)}', end='\\n'+'-'*30+'\\n')\n",
    "\n",
    "# var_x의 값을 실수형으로 변환하여 var_y에 할당\n",
    "var_y = float(var_x)\n",
    "\n",
    "# var_y의 값과 자료형을 출력\n",
    "print(f'{var_y}는 {type(var_y)}', end='\\n'+'-'*30+'\\n')\n",
    "\n",
    "# var_x의 값을 문자열로 변환하여 var_y에 할당\n",
    "var_y = str(var_x)\n",
    "\n",
    "# var_y의 값과 자료형을 출력\n",
    "print(f'{var_y}는 {type(var_y)}', end='\\n'+'-'*30+'\\n')\n",
    "\n",
    "# var_x의 값을 불리언으로 변환하여 var_y에 할당\n",
    "# 정수 12345는 0이 아니므로 True\n",
    "var_y = bool(var_x)\n",
    "\n",
    "# var_y의 값과 자료형을 출력\n",
    "print(f'{var_y}는 {type(var_y)}')"
   ]
  },
  {
   "cell_type": "markdown",
   "metadata": {},
   "source": [
    "iterable 자료형 변환 함수."
   ]
  },
  {
   "cell_type": "code",
   "execution_count": 32,
   "metadata": {},
   "outputs": [
    {
     "name": "stdout",
     "output_type": "stream",
     "text": [
      "var_x는 <class 'range'>\n",
      "------------------------------\n",
      "var_y는 <class 'list'>\n",
      "------------------------------\n",
      "var_y는 <class 'tuple'>\n",
      "------------------------------\n",
      "var_y는 <class 'set'>\n"
     ]
    }
   ],
   "source": [
    "# var_x에 -10부터 0 전까지 2씩 증가하는 range 객체를 할당\n",
    "var_x = range(-10, 0, 2)\n",
    "\n",
    "# var_x의 값과 자료형을 출력\n",
    "print(f'var_x는 {type(var_x)}', end='\\n'+'-'*30+'\\n')\n",
    "\n",
    "# var_y에 var_x의 값을 리스트로 변환하여 할당\n",
    "var_y = list(var_x)\n",
    "\n",
    "# var_y의 값과 자료형을 출력\n",
    "print(f'var_y는 {type(var_y)}', end='\\n'+'-'*30+'\\n')\n",
    "\n",
    "# var_y에 var_x의 값을 튜플로 변환하여 할당\n",
    "var_y = tuple(var_x)\n",
    "\n",
    "# var_y의 값과 자료형을 출력\n",
    "print(f'var_y는 {type(var_y)}', end='\\n'+'-'*30+'\\n')\n",
    "\n",
    "# var_y에 var_x의 값을 집합으로 변환하여 할당\n",
    "var_y = set(var_x)\n",
    "\n",
    "# var_y의 값과 자료형을 출력\n",
    "print(f'var_y는 {type(var_y)}')"
   ]
  },
  {
   "cell_type": "code",
   "execution_count": 33,
   "metadata": {},
   "outputs": [
    {
     "name": "stdout",
     "output_type": "stream",
     "text": [
      "abcdab는 <class 'str'>\n",
      "------------------------------\n",
      "['a', 'b', 'c', 'd', 'a', 'b']는 <class 'list'>\n",
      "------------------------------\n",
      "('a', 'b', 'c', 'd', 'a', 'b')는 <class 'tuple'>\n",
      "------------------------------\n",
      "{'a', 'c', 'd', 'b'}는 <class 'set'>\n",
      "------------------------------\n"
     ]
    }
   ],
   "source": [
    "# var_x에 문자열 'abcdab'를 할당. 문자열은 iterable 자료형임\n",
    "var_x = \"abcdab\"\n",
    "\n",
    "# var_x의 값과 자료형을 출력\n",
    "print(f'{var_x}는 {type(var_x)}', end='\\n'+'-'*30+'\\n')\n",
    "\n",
    "# var_y에 var_x의 값을 리스트로 변환하여 할당\n",
    "var_y = list(var_x)\n",
    "print(f'{var_y}는 {type(var_y)}', end='\\n'+'-'*30+'\\n')\n",
    "\n",
    "# var_y에 var_x의 값을 튜플로 변환하여 할당\n",
    "var_y = tuple(var_x)\n",
    "print(f'{var_y}는 {type(var_y)}', end='\\n'+'-'*30+'\\n')\n",
    "\n",
    "# var_y에 var_x의 값을 집합으로 변환하여 할당\n",
    "# 집합은 중복을 허용하지 않으므로 'abcd'만 남음\n",
    "var_y = set(var_x)\n",
    "print(f'{var_y}는 {type(var_y)}', end='\\n'+'-'*30+'\\n')"
   ]
  },
  {
   "cell_type": "markdown",
   "metadata": {},
   "source": [
    "# 응용"
   ]
  },
  {
   "cell_type": "code",
   "execution_count": 34,
   "metadata": {},
   "outputs": [
    {
     "name": "stdout",
     "output_type": "stream",
     "text": [
      "숫자는 인덱스가 없습니다.\n",
      "문자는 숫자와 연산할 수 없습니다.\n",
      "튜플은 immutable 입니다.\n",
      "2\n"
     ]
    }
   ],
   "source": [
    "# 데이터 유형을 체에 거르듯 구분해보는 코드입니다.\n",
    "\n",
    "myVar = 123\n",
    "myTuple = (1,2,3)\n",
    "myStr = '123'\n",
    "myList = [1,2,3]\n",
    "\n",
    "try:\n",
    "    myVar[0] += 1\n",
    "except:\n",
    "    print('숫자는 인덱스가 없습니다.') # 반면 스트링, 튜플, 리스트는 인덱스가 있습니다.\n",
    "\n",
    "try:\n",
    "    myStr[0] += 1\n",
    "except:\n",
    "    print('문자는 숫자와 연산할 수 없습니다.') # 반면 튜플, 리스트는 항목으로 숫자도 가질 수 있고, 그 경우 그 항목은 숫자와 연산이 가능합니다.\n",
    "\n",
    "try:\n",
    "    myTuple[0] += 1\n",
    "except:\n",
    "    print('튜플은 immutable 입니다.') # 반면 리스트는 mutable 입니다.\n",
    "\n",
    "n = myList[0] + 1\n",
    "print(n)\n"
   ]
  },
  {
   "cell_type": "code",
   "execution_count": 35,
   "metadata": {},
   "outputs": [
    {
     "name": "stdout",
     "output_type": "stream",
     "text": [
      "error by 1st\n",
      "error by 2nd\n",
      "error by 3rd\n"
     ]
    }
   ],
   "source": [
    "# 문자는 int(), float() 함수를 모두 사용할 수 없습니다.\n",
    "try:\n",
    "    print(int('abc'))\n",
    "except:\n",
    "    print('error by 1st')\n",
    "\n",
    "try:\n",
    "    print(float('abc'))\n",
    "except:\n",
    "    print('error by 2nd')\n",
    "\n",
    "# 그리고 실수형을 문자로 쓴 것은 int로 한 번에 바꿀 수 없습니다.\n",
    "try:\n",
    "    print(int('2.0'))\n",
    "except:\n",
    "    print('error by 3rd')"
   ]
  },
  {
   "cell_type": "code",
   "execution_count": 36,
   "metadata": {},
   "outputs": [
    {
     "name": "stdout",
     "output_type": "stream",
     "text": [
      "10.0 는 실수입니다\n"
     ]
    }
   ],
   "source": [
    "# 이를 이용해 만든 입력받은 데이터의 성격이 정수인지, 실수인지, 문자인지 추론하는 코드입니다.\n",
    "\n",
    "a = input('무엇이든 입력: ')\n",
    "\n",
    "try:\n",
    "    int(a)\n",
    "    print(a,'는 정수입니다')\n",
    "except:\n",
    "    try:\n",
    "        float(a)\n",
    "        print(a,'는 실수입니다')\n",
    "    except:\n",
    "        print(a,'는 문자입니다')"
   ]
  }
 ],
 "metadata": {
  "kernelspec": {
   "display_name": "base",
   "language": "python",
   "name": "python3"
  },
  "language_info": {
   "codemirror_mode": {
    "name": "ipython",
    "version": 3
   },
   "file_extension": ".py",
   "mimetype": "text/x-python",
   "name": "python",
   "nbconvert_exporter": "python",
   "pygments_lexer": "ipython3",
   "version": "3.12.8"
  }
 },
 "nbformat": 4,
 "nbformat_minor": 2
}
