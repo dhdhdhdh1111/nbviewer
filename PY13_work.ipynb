{
 "cells": [
  {
   "cell_type": "markdown",
   "id": "a2b2ac80",
   "metadata": {},
   "source": [
    "# 함수\n",
    "\n",
    "## 함수와 람다함수"
   ]
  },
  {
   "cell_type": "markdown",
   "id": "d87eaea5",
   "metadata": {},
   "source": [
    "### 함수명 작성법\n",
    "\n",
    "최근은 camelCase 로 작성하는 추세."
   ]
  },
  {
   "cell_type": "code",
   "execution_count": 32,
   "id": "4ff691b2",
   "metadata": {},
   "outputs": [],
   "source": [
    "# calcSumProduct 함수명, a,b는 parameters(매개변수)\n",
    "def calcSumProduct(a,b=10):\n",
    "\n",
    "    # 들여쓰기로 실행문의 코드블록을 지정\n",
    "    plus = a+b\n",
    "    multiple = a*b\n",
    "\n",
    "    # return으로 함수의 결과값을 반환\n",
    "    return plus, multiple"
   ]
  },
  {
   "cell_type": "markdown",
   "id": "46dedf1d",
   "metadata": {},
   "source": [
    "### 함수의 호출\n",
    "\n",
    "#### 반환값이 없거나 반환값을 바로 사용\n",
    "\n",
    "함수명(인수1, 인수2, ...)\n",
    "\n",
    "#### 반환값을 변수에 저장하여 활용\n",
    "\n",
    "변수명 = 함수명(인수1, 인수2, ...)\n",
    "\n",
    "#### 반환값이 여러 개인 경우 튜플로 반환됨\n",
    "\n",
    "변수1, 변수2, ... = 함수명(인수1, 인수2, ...)"
   ]
  },
  {
   "cell_type": "code",
   "execution_count": 33,
   "id": "4b0d2143",
   "metadata": {},
   "outputs": [
    {
     "name": "stdout",
     "output_type": "stream",
     "text": [
      "sum = 10, product = 21\n"
     ]
    }
   ],
   "source": [
    "# 인자를 순서대로 전달하여 함수 호출\n",
    "sum, product = calcSumProduct(3, 7)\n",
    "\n",
    "# 함수의 결과값을 출력\n",
    "print(f'{sum = }, {product = }')"
   ]
  },
  {
   "cell_type": "code",
   "execution_count": 34,
   "id": "eda231c5",
   "metadata": {},
   "outputs": [
    {
     "name": "stdout",
     "output_type": "stream",
     "text": [
      "sum = 13, product = 30\n"
     ]
    }
   ],
   "source": [
    "# 인자의 디폴트값을 사용하여 함수 호출\n",
    "sum, product = calcSumProduct(3)\n",
    "\n",
    "print(f'{sum = }, {product = }')"
   ]
  },
  {
   "cell_type": "code",
   "execution_count": 35,
   "id": "a32baeea",
   "metadata": {},
   "outputs": [
    {
     "name": "stdout",
     "output_type": "stream",
     "text": [
      "sum = 10, product = 21\n"
     ]
    }
   ],
   "source": [
    "# 인자의 이름을 지정하여 함수 호출\n",
    "sum, product = calcSumProduct(b=3, a=7)\n",
    "\n",
    "print(f'{sum = }, {product = }')"
   ]
  },
  {
   "cell_type": "markdown",
   "id": "892633ce",
   "metadata": {},
   "source": [
    "### 함수 주석"
   ]
  },
  {
   "cell_type": "code",
   "execution_count": 36,
   "id": "41a3569b",
   "metadata": {},
   "outputs": [],
   "source": [
    "# a와 b는 int형으로 지정, 반환값은 int형\n",
    "def calcSumProduct(a: int, b: int = 10) -> int:\n",
    "    # 함수에 대한 설명을 작성\n",
    "    \"\"\"calcSumProduct 함수는 a와 b를 더한 값과 곱한 값을 튜플로 반환하는 함수이다.\"\"\"\n",
    "\n",
    "    # f-string을 이용하여 a와 b의 값을 출력\n",
    "    print(f'{a = }, {b = }')\n",
    "    plus = a+b\n",
    "    multiple = a*b\n",
    "    return plus, multiple"
   ]
  },
  {
   "cell_type": "code",
   "execution_count": 37,
   "id": "fe3b980c",
   "metadata": {},
   "outputs": [
    {
     "name": "stdout",
     "output_type": "stream",
     "text": [
      "Help on function calcSumProduct in module __main__:\n",
      "\n",
      "calcSumProduct(a: int, b: int = 10) -> int\n",
      "    calcSumProduct 함수는 a와 b를 더한 값과 곱한 값을 튜플로 반환하는 함수이다.\n",
      "\n"
     ]
    }
   ],
   "source": [
    "# 함수의 설명을 출력\n",
    "help(calcSumProduct)"
   ]
  },
  {
   "cell_type": "markdown",
   "id": "c87573b1",
   "metadata": {},
   "source": [
    "## 인수의 개수가 정해지지 않은 함수\n",
    "\n",
    "### *args의 활용"
   ]
  },
  {
   "cell_type": "code",
   "execution_count": 38,
   "id": "1ddb57fc",
   "metadata": {},
   "outputs": [
    {
     "name": "stdout",
     "output_type": "stream",
     "text": [
      "inputs = (1, 2, 3)\n",
      "sum = np.int64(6), product = np.int64(6)\n",
      "\n",
      "inputs = (1, 2, 3, 4, 5, 6, 7, 8)\n",
      "sum = np.int64(36), product = np.int64(40320)\n"
     ]
    }
   ],
   "source": [
    "# 계산을 위해 numpy 모듈을 np로 import\n",
    "import numpy as np\n",
    "\n",
    "# calcSumProduct2 함수명, inputs는 크기가 정해지지 않은 parameters(매개변수)\n",
    "def calcSumProduct2(*inputs):\n",
    "    \"\"\"calcSumProduct2 함수는 입력의 합과 곱을 튜플로 반환하는 함수이다.\"\"\"\n",
    "\n",
    "    # f-string을 이용하여 inputs의 값을 출력\n",
    "    print(f'{inputs = }')\n",
    "\n",
    "    # numpy 모듈을 이용하여 inputs의 합과 곱을 계산\n",
    "    plus = np.sum(inputs)\n",
    "    multiple = np.prod(inputs)\n",
    "\n",
    "    # plus와 multiple을 튜플로 반환\n",
    "    return plus, multiple\n",
    "\n",
    "# 인수 1,2,3에 대한 함수를 적용하여 결과를 sum, product에 저장\n",
    "sum, product = calcSumProduct2(1,2,3)\n",
    "\n",
    "# sum과 product을 출력\n",
    "print(f'{sum = }, {product = }\\n')\n",
    "\n",
    "# 인수 1,2,3,4,5,6,7,8에 대한 함수를 적용하여 결과를 sum, product에 저장\n",
    "sum, product = calcSumProduct2(1,2,3,4,5,6,7,8)\n",
    "\n",
    "# sum과 product을 출력\n",
    "print(f'{sum = }, {product = }')"
   ]
  },
  {
   "cell_type": "markdown",
   "id": "605a2d49",
   "metadata": {},
   "source": [
    "### **kwargs 의 활용용"
   ]
  },
  {
   "cell_type": "code",
   "execution_count": 39,
   "id": "7d0560c1",
   "metadata": {},
   "outputs": [
    {
     "name": "stdout",
     "output_type": "stream",
     "text": [
      "inputs = {'a': 1, 'b': 2}\n",
      "sum = 3, product = 2\n",
      "\n",
      "inputs = {'a': 1, 'b': 2, 'c': 3, 'd': 4}\n",
      "sum = 10, product = 24\n"
     ]
    }
   ],
   "source": [
    "import numpy as np\n",
    "\n",
    "# calcSumProduct2 함수명, inputs는 크기가 정해지지 않은 parameters\n",
    "def calcSumProduct2(**inputs):\n",
    "    \"\"\"calcSumProduct2 함수는 입력의 합과 곱을 튜플로 반환하는 함수이다.\"\"\"\n",
    "\n",
    "    # f-string을 이용하여 inputs의 값을 출력\n",
    "    print(f'{inputs = }')\n",
    "\n",
    "    # plus에 0을, multiple에 1을 초기값으로 할당\n",
    "    plus = 0\n",
    "    multiple = 1\n",
    "\n",
    "    # inputs가 딕셔너리 이므로 key와 value를 반복하여 _, value에 할당\n",
    "    for _, value in inputs.items():\n",
    "        # plus에 value를 더하여 plus를 갱신\n",
    "        plus += value\n",
    "        # multiple에 value를 곱하여 multiple을 갱신\n",
    "        multiple *= value\n",
    "\n",
    "    # plus와 multiple을 튜플로 반환\n",
    "    return plus, multiple\n",
    "\n",
    "# 인수 a=1, b=2에 대한 함수를 적용하여 결과를 sum, product에 저장\n",
    "sum, product = calcSumProduct2(a=1, b=2)\n",
    "print(f'{sum = }, {product = }\\n')\n",
    "\n",
    "# 인수 a=1, b=2, c=3, d=4에 대한 함수를 적용하여 결과를 sum, product에 저장\n",
    "sum, product = calcSumProduct2(a=1, b=2, c=3, d=4)\n",
    "print(f'{sum = }, {product = }')"
   ]
  },
  {
   "cell_type": "markdown",
   "id": "56dc8373",
   "metadata": {},
   "source": [
    "## 지역변수와 전역변수\n",
    "\n",
    "### 함수 내에서 전역변수의 사용"
   ]
  },
  {
   "cell_type": "code",
   "execution_count": 40,
   "id": "77e0d353",
   "metadata": {},
   "outputs": [
    {
     "name": "stdout",
     "output_type": "stream",
     "text": [
      "var_global = '전역 변수'\n",
      "var_local = '인자는 지역 변수'\n",
      "var_global = '전역 변수'\n",
      "name 'var_local' is not defined\n"
     ]
    }
   ],
   "source": [
    "# var_global은 전역 변수\n",
    "var_global = '전역 변수'\n",
    "\n",
    "# useGlobalVariable 함수명, var_local은 매개변수(지역 변수)\n",
    "def useGlobalVariable(var_local):\n",
    "    \n",
    "    # 전역변수와 지역변수를 출력\n",
    "    print(f'{var_global = }')\n",
    "    print(f'{var_local = }')\n",
    "\n",
    "# useGlobalVariable 함수 호출, '인자는 지역 변수'는 인자\n",
    "useGlobalVariable('인자는 지역 변수')\n",
    "\n",
    "# 전역변수를 출력 -> 값이 변하지 않음\n",
    "print(f'{var_global = }')\n",
    "\n",
    "# 지역변수를 출력 -> 함수 내에서만 사용되는 변수로서 함수 외부에서는 사용 불가\n",
    "try:\n",
    "    print(f'{var_local = }')\n",
    "except NameError as e:\n",
    "    print(e)"
   ]
  },
  {
   "cell_type": "markdown",
   "id": "de856d79",
   "metadata": {},
   "source": [
    "### 함수 내에서 전역변수의 변경"
   ]
  },
  {
   "cell_type": "code",
   "execution_count": 41,
   "id": "53515838",
   "metadata": {},
   "outputs": [
    {
     "name": "stdout",
     "output_type": "stream",
     "text": [
      "var_global = '전역 변수가 아닌 지역변수임'\n",
      "var_local = '인자는 지역 변수'\n",
      "var_global = '전역 변수'\n"
     ]
    }
   ],
   "source": [
    "var_global = '전역 변수'\n",
    "\n",
    "def useGlobalVariable(var_local):\n",
    "    # var_global을 변경하면, 전역변수가 아닌 지역변수로 생성하여 사용됨\n",
    "    # 즉, 변수명은 동일하나 서로 다른 변수임\n",
    "    var_global = '전역 변수가 아닌 지역변수임'\n",
    "    print(f'{var_global = }')\n",
    "    print(f'{var_local = }')\n",
    "\n",
    "# useGlobalVariable 함수 호출, '인자는 지역 변수'는 인자\n",
    "useGlobalVariable('인자는 지역 변수')\n",
    "\n",
    "# 전역변수를 출력 -> 값이 변하지 않음\n",
    "print(f'{var_global = }')"
   ]
  },
  {
   "cell_type": "markdown",
   "id": "8ce4417e",
   "metadata": {},
   "source": [
    "### 함수 내에서 전역변수를 변경하는 방법"
   ]
  },
  {
   "cell_type": "code",
   "execution_count": 42,
   "id": "de4a6d3f",
   "metadata": {},
   "outputs": [
    {
     "name": "stdout",
     "output_type": "stream",
     "text": [
      "var_global = '전역 변수'\n",
      "var_local = '인자는 지역 변수'\n",
      "var_global = '이제는 전역 변수임'\n"
     ]
    }
   ],
   "source": [
    "var_global = '전역 변수'\n",
    "\n",
    "def useGlobalVariable(var_local):\n",
    "\n",
    "    # var_global이 전역변수임을 명시\n",
    "    global var_global\n",
    "\n",
    "    # 전역변수와 지역변수를 출력\n",
    "    print(f'{var_global = }')\n",
    "    print(f'{var_local = }')\n",
    "\n",
    "    # var_global은 이제 전역변수이므로 전역변수의 값이 변경됨\n",
    "    var_global = '이제는 전역 변수임'\n",
    "\n",
    "# useGlobalVariable 함수 호출, '인자는 지역 변수'는 인자\n",
    "useGlobalVariable('인자는 지역 변수')\n",
    "\n",
    "# 전역변수를 출력 -> 값이 변경됨\n",
    "print(f'{var_global = }')"
   ]
  },
  {
   "cell_type": "markdown",
   "id": "4db40a4a",
   "metadata": {},
   "source": [
    "## 람다함수"
   ]
  },
  {
   "cell_type": "code",
   "execution_count": 43,
   "id": "5058001e",
   "metadata": {},
   "outputs": [
    {
     "data": {
      "text/plain": [
       "15"
      ]
     },
     "execution_count": 43,
     "metadata": {},
     "output_type": "execute_result"
    }
   ],
   "source": [
    "# x를 매개변수로 하여 10을 더하는 함수 정의\n",
    "def addTen(x):\n",
    "    return x + 10\n",
    "\n",
    "# 일반 함수 호출\n",
    "addTen(5)"
   ]
  },
  {
   "cell_type": "code",
   "execution_count": 44,
   "id": "38d6d494",
   "metadata": {},
   "outputs": [
    {
     "data": {
      "text/plain": [
       "<function __main__.<lambda>(x)>"
      ]
     },
     "execution_count": 44,
     "metadata": {},
     "output_type": "execute_result"
    }
   ],
   "source": [
    "# 함수명이 없는 람다함수수\n",
    "\n",
    "# x를 매개변수로 하여 10을 더하는 함수를 lambda로 정의\n",
    "lambda x: x + 10"
   ]
  },
  {
   "cell_type": "code",
   "execution_count": 45,
   "id": "1580d227",
   "metadata": {},
   "outputs": [
    {
     "name": "stdout",
     "output_type": "stream",
     "text": [
      "15\n"
     ]
    }
   ],
   "source": [
    "# lambda 함수 호출 -> 함수명이 없으므로 함수를 호출할 수 없어 정의하여 바로 호출\n",
    "print((lambda x: x + 10)(5))"
   ]
  },
  {
   "cell_type": "code",
   "execution_count": 46,
   "id": "fc7e0995",
   "metadata": {},
   "outputs": [
    {
     "name": "stdout",
     "output_type": "stream",
     "text": [
      "15\n"
     ]
    }
   ],
   "source": [
    "# 함수명이 있는 람다 함수\n",
    "\n",
    "# x를 입력받아 x+10을 반환하는 람다 함수를 addTen으로 명명\n",
    "addTen = lambda x: x + 10\n",
    "\n",
    "# addTen 함수 호출\n",
    "print(addTen(5))"
   ]
  },
  {
   "cell_type": "markdown",
   "id": "69b5b2ed",
   "metadata": {},
   "source": [
    "### 람다함수 응용"
   ]
  },
  {
   "cell_type": "code",
   "execution_count": 47,
   "id": "49478206",
   "metadata": {},
   "outputs": [
    {
     "data": {
      "text/plain": [
       "115"
      ]
     },
     "execution_count": 47,
     "metadata": {},
     "output_type": "execute_result"
    }
   ],
   "source": [
    "# 람다 함수에서 외부 변수 사용\n",
    "\n",
    "# 람다 함수 내부에서는 새로운 변수를 생성할 수 없으나 외부 변수는 사용 가능\n",
    "\n",
    "# 외부 변수수\n",
    "y = 100\n",
    "\n",
    "# 외부 변수를 참조하는 람다 함수\n",
    "(lambda x: x + y + 10)(5)"
   ]
  },
  {
   "cell_type": "code",
   "execution_count": 48,
   "id": "d2d1a016",
   "metadata": {},
   "outputs": [
    {
     "data": {
      "text/plain": [
       "'(3의 배수) 9'"
      ]
     },
     "execution_count": 48,
     "metadata": {},
     "output_type": "execute_result"
    }
   ],
   "source": [
    "# 람다 함수에서 조건부 표현식 사용\n",
    "\n",
    "# x가 3의 배수이면 ('3의 배수' + str(x))를 반환하고, 아니면 x를 반환하는 람다 함수\n",
    "(lambda x: '(3의 배수) ' + str(x) if x % 3 == 0 else x)(9)"
   ]
  },
  {
   "cell_type": "code",
   "execution_count": 49,
   "id": "ed8fc6f4",
   "metadata": {},
   "outputs": [
    {
     "data": {
      "text/plain": [
       "8"
      ]
     },
     "execution_count": 49,
     "metadata": {},
     "output_type": "execute_result"
    }
   ],
   "source": [
    "(lambda x: '(3의 배수) ' + str(x) if x % 3 == 0 else x)(8)"
   ]
  },
  {
   "cell_type": "code",
   "execution_count": 50,
   "id": "4a6455d7",
   "metadata": {},
   "outputs": [
    {
     "data": {
      "text/plain": [
       "'(3의 배수) 9'"
      ]
     },
     "execution_count": 50,
     "metadata": {},
     "output_type": "execute_result"
    }
   ],
   "source": [
    "# x가 3의 배수이면 '(3의 배수) ' + str(x)를 반환하고,\n",
    "# x를 3으로 나눈 나머지가 1이면 float(x)를 반환하고,\n",
    "# 모두 해당이 안되면 x를 반환하는 람다 함수\n",
    "(lambda x: '(3의 배수) ' + str(x) if x % 3 == 0 else float(x) if x % 3 == 1 else x)(9)"
   ]
  },
  {
   "cell_type": "code",
   "execution_count": 51,
   "id": "a0fe8991",
   "metadata": {},
   "outputs": [
    {
     "data": {
      "text/plain": [
       "7.0"
      ]
     },
     "execution_count": 51,
     "metadata": {},
     "output_type": "execute_result"
    }
   ],
   "source": [
    "(lambda x: '(3의 배수) ' + str(x) if x % 3 == 0 else float(x) if x % 3 == 1 else x)(7)"
   ]
  },
  {
   "cell_type": "code",
   "execution_count": 52,
   "id": "eb9ecbd9",
   "metadata": {},
   "outputs": [
    {
     "data": {
      "text/plain": [
       "5"
      ]
     },
     "execution_count": 52,
     "metadata": {},
     "output_type": "execute_result"
    }
   ],
   "source": [
    "(lambda x: '(3의 배수) ' + str(x) if x % 3 == 0 else float(x) if x % 3 == 1 else x)(5)"
   ]
  },
  {
   "cell_type": "code",
   "execution_count": 53,
   "id": "211f8ef2",
   "metadata": {},
   "outputs": [
    {
     "data": {
      "text/plain": [
       "3"
      ]
     },
     "execution_count": 53,
     "metadata": {},
     "output_type": "execute_result"
    }
   ],
   "source": [
    "# 람다 함수에 여러 개의 인자를 넣기\n",
    "\n",
    "# x가 3의 배수이면 x를 반환하고, 아니면 x + y를 반환하는 람다 함수\n",
    "(lambda x, y: x if x % 3 == 0 else x + y)(3, 4)"
   ]
  },
  {
   "cell_type": "code",
   "execution_count": 54,
   "id": "d5cd0642",
   "metadata": {},
   "outputs": [
    {
     "data": {
      "text/plain": [
       "6"
      ]
     },
     "execution_count": 54,
     "metadata": {},
     "output_type": "execute_result"
    }
   ],
   "source": [
    "(lambda x, y: x if x % 3 == 0 else x + y)(2, 4)"
   ]
  },
  {
   "cell_type": "markdown",
   "id": "cd4d921e",
   "metadata": {},
   "source": [
    "## map 함수에 적용"
   ]
  },
  {
   "cell_type": "code",
   "execution_count": 55,
   "id": "8dd4e22d",
   "metadata": {},
   "outputs": [
    {
     "data": {
      "text/plain": [
       "[11, 12, 13]"
      ]
     },
     "execution_count": 55,
     "metadata": {},
     "output_type": "execute_result"
    }
   ],
   "source": [
    "# [1,2,3]의 원소를 x에 할당하여 x+10을 반환하는 람다함수를 호출하여 list로 변환\n",
    "list(map(lambda x: x+10, [1,2,3]))"
   ]
  },
  {
   "cell_type": "code",
   "execution_count": 56,
   "id": "5d2fc1b8",
   "metadata": {},
   "outputs": [
    {
     "data": {
      "text/plain": [
       "['(3의 배수) 0', 1, 2, '(3의 배수) 3', 4, 5, '(3의 배수) 6', 7, 8, '(3의 배수) 9']"
      ]
     },
     "execution_count": 56,
     "metadata": {},
     "output_type": "execute_result"
    }
   ],
   "source": [
    "# range(10)의 원소를 x에 할당하여 x가 3의 배수이면 '(3의 배수) '+str(x)를 반환하고, \n",
    "# 아니면 x를 반환하는 람다함수를 호출하여 list로 변환\n",
    "ldMultiple3 = lambda x: '(3의 배수) '+str(x) if x%3==0 else x\n",
    "list(map(ldMultiple3, range(10)))"
   ]
  },
  {
   "cell_type": "code",
   "execution_count": 57,
   "id": "3fa842bf",
   "metadata": {},
   "outputs": [
    {
     "data": {
      "text/plain": [
       "['(3의 배수) 0', 1.0, 2, '(3의 배수) 3', 4.0, 5, '(3의 배수) 6', 7.0, 8, '(3의 배수) 9']"
      ]
     },
     "execution_count": 57,
     "metadata": {},
     "output_type": "execute_result"
    }
   ],
   "source": [
    "# range(10)의 원소를 x에 할당하여 x가 3의 배수이면 '(3의 배수) '+str(x)를 반환하고, \n",
    "# x를 3으로 나눈 나머지가 1이면 float(x)를 반환하고,\n",
    "# 모두 해당이 안되면 x를 반환하는 람다함수를 호출하여 list로 변환\n",
    "ldMultiple3f = lambda x: '(3의 배수) '+str(x) if x%3==0 else float(x) if x%3==1 else x\n",
    "list(map(ldMultiple3f, range(10)))"
   ]
  },
  {
   "cell_type": "code",
   "execution_count": 58,
   "id": "bbd24a68",
   "metadata": {},
   "outputs": [
    {
     "data": {
      "text/plain": [
       "[0, 101, 102, 3, 104, 105, 6, 107, 108, 9]"
      ]
     },
     "execution_count": 58,
     "metadata": {},
     "output_type": "execute_result"
    }
   ],
   "source": [
    "# range(10)의 원소를 x에 할당하고, [100]*10의 원소를 y에 할당하여\n",
    "# x가 3의 배수이면 x를, 아니면 x+y를 반환하는 람다함수를 호출하여 list로 변환\n",
    "ldMultiple3a = lambda x, y: x if x%3==0 else x+y\n",
    "list(map(ldMultiple3a, range(10), [100]*10))"
   ]
  },
  {
   "cell_type": "markdown",
   "id": "015e55c0",
   "metadata": {},
   "source": [
    "# 응용"
   ]
  },
  {
   "cell_type": "code",
   "execution_count": 59,
   "id": "17c70baa",
   "metadata": {},
   "outputs": [
    {
     "name": "stdout",
     "output_type": "stream",
     "text": [
      "5\n",
      "<class 'tuple'>\n",
      "1\n",
      "<class 'dict'>\n"
     ]
    }
   ],
   "source": [
    "def func(*x):\n",
    "    print(x[0])\n",
    "    return type(x)\n",
    "\n",
    "print(func(5,4,3,2)) # *args 는 파라메터를 튜플로 만듭니다. 주소와 타입을 이용해 확인할 수 있습니다.\n",
    "\n",
    "def func2(**x):\n",
    "    print(x['a'])\n",
    "    return type(x)\n",
    "\n",
    "print(func2(a=1, b=2)) # **kwargs 는 파라메터를 딕셔너리로 만듭니다. 주소와 타입을 이용해 확인할 수 있습니다."
   ]
  },
  {
   "cell_type": "code",
   "execution_count": 60,
   "id": "94b9460a",
   "metadata": {},
   "outputs": [
    {
     "name": "stdout",
     "output_type": "stream",
     "text": [
      "[1, 4, 9, 16, 25]\n"
     ]
    }
   ],
   "source": [
    "# 입력값을 제곱시켜 출력하는 람다함수.\n",
    "square = lambda x,n=2 : x**n\n",
    "\n",
    "# 리스트의 모든 값을 제곱시켜 반환할 수 있습니다.\n",
    "sqNums = list(map(square, [1,2,3,4,5]))\n",
    "print(sqNums)"
   ]
  },
  {
   "cell_type": "code",
   "execution_count": 61,
   "id": "c9b02aed",
   "metadata": {},
   "outputs": [
    {
     "name": "stdout",
     "output_type": "stream",
     "text": [
      "16\n",
      "16\n",
      "27\n",
      "65536\n"
     ]
    }
   ],
   "source": [
    "# square 함수를 이용해 테트레이션 함수를 만들었습니다.\n",
    "\n",
    "# 테트레이션 3 함수.\n",
    "tet3 = lambda x : square(x, square(x,x)) # 입력값 x에서 출력값 x^x^x 을 반환환.\n",
    "\n",
    "print( tet3(2) ) # 2^2^2 = 2^4 = 2^16\n",
    "\n",
    "# 이를 확장하여 재귀적인 방식으로 테트레이션 함수를 구현했습니다.\n",
    "tet = lambda x, n : x if n==1 else square(x, tet(x, n-1))\n",
    "# 입력값 x, n 을 받으면, x^x^x^ ... ^x(x가 총 n개) 를 반환합니다.\n",
    "\n",
    "print(tet(2,3)) # 2^2^2 = 2^4 = 16\n",
    "print(tet(3,2)) # 3^3 = 27\n",
    "print(tet(2,4)) # 2^2^2^2 = 2^2^4 = 2^16 = 65536\n",
    "# 다만 테트레이션은 조금만 숫자를 높게 입력해도 반환값이 int의 최대를 넘기 때문에 오류가 발생합니다."
   ]
  }
 ],
 "metadata": {
  "kernelspec": {
   "display_name": "base",
   "language": "python",
   "name": "python3"
  },
  "language_info": {
   "codemirror_mode": {
    "name": "ipython",
    "version": 3
   },
   "file_extension": ".py",
   "mimetype": "text/x-python",
   "name": "python",
   "nbconvert_exporter": "python",
   "pygments_lexer": "ipython3",
   "version": "3.12.8"
  }
 },
 "nbformat": 4,
 "nbformat_minor": 5
}
