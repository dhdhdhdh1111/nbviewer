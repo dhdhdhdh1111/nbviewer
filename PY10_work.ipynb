{
 "cells": [
  {
   "cell_type": "markdown",
   "id": "96ea0c54",
   "metadata": {},
   "source": [
    "# 컴프리헨션\n",
    "\n",
    "## 리스트 컴프리헨션"
   ]
  },
  {
   "cell_type": "code",
   "execution_count": 47,
   "id": "2a7a605e",
   "metadata": {},
   "outputs": [
    {
     "name": "stdout",
     "output_type": "stream",
     "text": [
      "nums_comp = [11, 12, 13, 14, 15]\n"
     ]
    }
   ],
   "source": [
    "# 1부터 5까지 순차적으로 num에 대입, n+10을 리스트에 추가.\n",
    "\n",
    "nums_comp = [num+10 for num in range(1,6)]\n",
    "\n",
    "print(f'{nums_comp = }')"
   ]
  },
  {
   "cell_type": "markdown",
   "id": "235d9464",
   "metadata": {},
   "source": [
    "### for 문을 이용한 리스트 생성과 비교"
   ]
  },
  {
   "cell_type": "code",
   "execution_count": 48,
   "id": "e3dbcc5d",
   "metadata": {},
   "outputs": [
    {
     "name": "stdout",
     "output_type": "stream",
     "text": [
      "num_for = [11, 12, 13, 14, 15]\n"
     ]
    }
   ],
   "source": [
    "# 숫자를 담을 빈 리스트 생성성\n",
    "num_for = []\n",
    "\n",
    "# 1부터 5까지 순차적으로 num에 대입\n",
    "for num in range(1,6):\n",
    "    # append 함수로 리스트에 num+10 추가.\n",
    "    num_for.append(num+10)\n",
    "\n",
    "print(f'{num_for = }')"
   ]
  },
  {
   "cell_type": "markdown",
   "id": "04e5fc59",
   "metadata": {},
   "source": [
    "### map 함수를 사용한 리스트 생성과 비교"
   ]
  },
  {
   "cell_type": "code",
   "execution_count": 49,
   "id": "7d1c1f64",
   "metadata": {},
   "outputs": [
    {
     "name": "stdout",
     "output_type": "stream",
     "text": [
      "15\n"
     ]
    }
   ],
   "source": [
    "# 입력한 수에 10 더하는 함수 정의.\n",
    "def add_ten(num):\n",
    "    return num + 10\n",
    "\n",
    "# 함수 테스트\n",
    "print(add_ten(5))"
   ]
  },
  {
   "cell_type": "code",
   "execution_count": 50,
   "id": "4666e265",
   "metadata": {},
   "outputs": [
    {
     "data": {
      "text/plain": [
       "<map at 0x1866f118eb0>"
      ]
     },
     "execution_count": 50,
     "metadata": {},
     "output_type": "execute_result"
    }
   ],
   "source": [
    "# 동작 확인 -> map 객체 반환환\n",
    "map(add_ten, [1,2,3,4,5])"
   ]
  },
  {
   "cell_type": "code",
   "execution_count": 51,
   "id": "993d1ce3",
   "metadata": {},
   "outputs": [
    {
     "data": {
      "text/plain": [
       "[11, 12, 13, 14, 15]"
      ]
     },
     "execution_count": 51,
     "metadata": {},
     "output_type": "execute_result"
    }
   ],
   "source": [
    "# map 객체를 리스트로 변환\n",
    "list(map(add_ten, [1,2,3,4,5]))"
   ]
  },
  {
   "cell_type": "code",
   "execution_count": 52,
   "id": "b15154b9",
   "metadata": {},
   "outputs": [
    {
     "name": "stdout",
     "output_type": "stream",
     "text": [
      "nums_map = [11, 12, 13, 14, 15]\n"
     ]
    }
   ],
   "source": [
    "# map 을 적용하여 컴프리헨션과 동일한 결과 얻음.\n",
    "nums_map = list(map(add_ten, range(1,6)))\n",
    "\n",
    "print(f'{nums_map = }')"
   ]
  },
  {
   "cell_type": "markdown",
   "id": "32696452",
   "metadata": {},
   "source": [
    "## 수식을 적용한 리스트 컴프리헨션"
   ]
  },
  {
   "cell_type": "code",
   "execution_count": 53,
   "id": "444330bb",
   "metadata": {},
   "outputs": [
    {
     "name": "stdout",
     "output_type": "stream",
     "text": [
      "nums_math = [1, 3, 5, 7, 9]\n"
     ]
    }
   ],
   "source": [
    "# 1부터 5까지 순차적으로 num에 대입하고\n",
    "# num에 2 곱하고 1 뺀 값을 리스트에 추가\n",
    "nums_math = [num*2-1 for num in range(1, 6)]\n",
    "print(f'{nums_math = }')"
   ]
  },
  {
   "cell_type": "markdown",
   "id": "368b815e",
   "metadata": {},
   "source": [
    "## 함수를 적용한 리스트 컴프리헨션"
   ]
  },
  {
   "cell_type": "code",
   "execution_count": 54,
   "id": "6bee31cf",
   "metadata": {},
   "outputs": [
    {
     "name": "stdout",
     "output_type": "stream",
     "text": [
      "nums_func = ['Int_1', 'Int_2', 'Int_3', 'Int_4', 'Int_5']\n"
     ]
    }
   ],
   "source": [
    "# 입력한 데이터를 문자열로 변환하고 'Int_'를 앞에 붙이는 함수 정의\n",
    "def addString(x):\n",
    "    return 'Int_' + str(x)\n",
    "\n",
    "# 1부터 5까지 순차적으로 num에 대입하고,\n",
    "# num을 addString() 함수에 대입한 결과를 리스트에 추가\n",
    "nums_func = [addString(num) for num in range(1, 6)]\n",
    "print(f'{nums_func = }') # 리스트 출력"
   ]
  },
  {
   "cell_type": "markdown",
   "id": "06af8421",
   "metadata": {},
   "source": [
    "## if 조건문을 적용한 리스트 컴프리헨션\n",
    "\n",
    "if 문만 쓸 때는 for 오른쪽에, if else 문을 쓸 때는 for 문 왼쪽에 작성."
   ]
  },
  {
   "cell_type": "code",
   "execution_count": 55,
   "id": "a5921123",
   "metadata": {},
   "outputs": [
    {
     "name": "stdout",
     "output_type": "stream",
     "text": [
      "nums_odds = [1, 3, 5]\n"
     ]
    }
   ],
   "source": [
    "# 1부터 5까지 순차적으로 num에 대입하고,\n",
    "# num이 홀수이면 리스트에 추가\n",
    "nums_odds = [num for num in range(1, 6) if num % 2 == 1]\n",
    "print(f'{nums_odds = }')"
   ]
  },
  {
   "cell_type": "code",
   "execution_count": 56,
   "id": "3f130e3b",
   "metadata": {},
   "outputs": [
    {
     "name": "stdout",
     "output_type": "stream",
     "text": [
      "nums_odds_zero = [1, 0, 3, 0, 5]\n"
     ]
    }
   ],
   "source": [
    "# 1부터 5까지 순차적으로 num에 대입하고,\n",
    "# num이 홀수이면 리스트에 그 값을 추가하고 아니면 0을 추가\n",
    "nums_odds_zero = [num if num % 2 == 1 else 0 for num in range(1, 6)]\n",
    "print(f'{nums_odds_zero = }')"
   ]
  },
  {
   "cell_type": "code",
   "execution_count": 57,
   "id": "e3409d80",
   "metadata": {},
   "outputs": [
    {
     "name": "stdout",
     "output_type": "stream",
     "text": [
      "nums_odds_less4 = [1, 3]\n"
     ]
    }
   ],
   "source": [
    "# 여러개의 if 조건문을 중첩가능\n",
    "# 1부터 5까지 순차적으로 num에 대입하고,\n",
    "# num이 홀수이면서 4보다 작으면 리스트에 추가\n",
    "nums_odds_less4 = [num for num in range(1, 6) if num % 2 == 1 if num < 4]\n",
    "print(f'{nums_odds_less4 = }')"
   ]
  },
  {
   "cell_type": "markdown",
   "id": "6547e535",
   "metadata": {},
   "source": [
    "## 중첩된 리스트 컴프리헨션\n",
    "\n",
    "컴프리헨션 내부에서 for, if는 몇번이고 반복 가능."
   ]
  },
  {
   "cell_type": "code",
   "execution_count": 58,
   "id": "516fac68",
   "metadata": {},
   "outputs": [
    {
     "name": "stdout",
     "output_type": "stream",
     "text": [
      "nums_pairs = [(1, 'a'), (1, 'b'), (1, 'c'), (2, 'a'), (2, 'b'), (2, 'c')]\n"
     ]
    }
   ],
   "source": [
    "# 1부터 2까지 순차적으로 x에 대입하고,\n",
    "# 'a', 'b', 'c' 순차적으로 y에 대입하여 (x,y)를 리스트에 추가\n",
    "# 앞의 for문이 먼저 실행되고, 뒤의 for문이 실행됨\n",
    "nums_pairs = [(x,y) for x in range(1, 3) for y in ['a', 'b', 'c']]\n",
    "print(f'{nums_pairs = }')"
   ]
  },
  {
   "cell_type": "code",
   "execution_count": 59,
   "id": "5d0898cb",
   "metadata": {},
   "outputs": [
    {
     "name": "stdout",
     "output_type": "stream",
     "text": [
      "num_pairs_sum5 = [(1, 4), (2, 3), (3, 2), (4, 1)]\n"
     ]
    }
   ],
   "source": [
    "# 1부터 5까지 순차적으로 x에 대입하고,\n",
    "# 1부터 5까지 순차적으로 y에 대입하여\n",
    "# x+y가 5이면 (x,y)를 리스트에 추가\n",
    "num_pairs_sum5 = [(x,y) for x in range(1, 6) for y in range(1, 6) if x+y==5]\n",
    "print(f'{num_pairs_sum5 = }') # 리스트 출력"
   ]
  },
  {
   "cell_type": "markdown",
   "id": "8de34c1f",
   "metadata": {},
   "source": [
    "## 딕셔너리 컴프리헨션\n",
    "\n",
    "거의 동일한 방식."
   ]
  },
  {
   "cell_type": "code",
   "execution_count": 60,
   "id": "7c8720b2",
   "metadata": {},
   "outputs": [
    {
     "name": "stdout",
     "output_type": "stream",
     "text": [
      "students_for = {1: '최딕션', 2: '최딕션', 3: '최딕션', 4: '최딕션'}\n"
     ]
    }
   ],
   "source": [
    "ids = [1, 2, 3, 4]\n",
    "student_names = ['김홍익', '이컴프리', '박헨션', '최딕션']\n",
    "\n",
    "# 중첩된 for문으로는 정상적으로 딕셔너리를 생성할 수 없음\n",
    "students_for = {id:name for id in ids for name in student_names}\n",
    "\n",
    "# 딕셔너리 출력\n",
    "print(f'{students_for = }')"
   ]
  },
  {
   "cell_type": "code",
   "execution_count": 61,
   "id": "a191cb10",
   "metadata": {},
   "outputs": [
    {
     "name": "stdout",
     "output_type": "stream",
     "text": [
      "students_enumerate = {0: '김홍익', 1: '이컴프리', 2: '박헨션', 3: '최딕션'}\n"
     ]
    }
   ],
   "source": [
    "student_names = ['김홍익', '이컴프리', '박헨션', '최딕션']\n",
    "\n",
    "# enumerate() 함수로 인덱스와 값을 동시에 가져옴\n",
    "students_enumerate = {id:name for id, name in enumerate(student_names)}\n",
    "print(f'{students_enumerate = }')"
   ]
  },
  {
   "cell_type": "code",
   "execution_count": 62,
   "id": "5999404c",
   "metadata": {},
   "outputs": [
    {
     "name": "stdout",
     "output_type": "stream",
     "text": [
      "students_zip = {1: '김홍익', 2: '이컴프리', 3: '박헨션', 4: '최딕션'}\n"
     ]
    }
   ],
   "source": [
    "ids = [1, 2, 3, 4]\n",
    "student_names = ['김홍익', '이컴프리', '박헨션', '최딕션']\n",
    "\n",
    "# zip() 함수로 두 리스트를 병렬로 가져옴\n",
    "students_zip = {id:name for id, name in zip(ids, student_names)}\n",
    "print(f'{students_zip = }')"
   ]
  },
  {
   "cell_type": "markdown",
   "id": "7796c09e",
   "metadata": {},
   "source": [
    "## set 컴프리헨션\n",
    "\n",
    "거의 동일한 방식.\n",
    "set 기호인 {} 이용."
   ]
  },
  {
   "cell_type": "code",
   "execution_count": 63,
   "id": "8815260f",
   "metadata": {},
   "outputs": [
    {
     "name": "stdout",
     "output_type": "stream",
     "text": [
      "sum_list = [2, 3, 4, 5, 6, 3, 4, 5, 6, 7, 4, 5, 6, 7, 8, 5, 6, 7, 8, 9, 6, 7, 8, 9, 10]\n",
      "\n",
      "sum_set = {2, 3, 4, 5, 6, 7, 8, 9, 10}\n"
     ]
    }
   ],
   "source": [
    "# 1부터 5까지 순차적으로 x에 대입하고,\n",
    "# 1부터 5까지 순차적으로 y에 대입하여 x+y에 대한 리스트 생성\n",
    "sum_list = [x+y for x in range(1, 6) for y in range(1, 6)]\n",
    "\n",
    "# 리스트 출력. 중복된 값이 있음\n",
    "print(f'{sum_list = }\\n')\n",
    "\n",
    "# 1부터 5까지 순차적으로 x에 대입하고,\n",
    "# 1부터 5까지 순차적으로 y에 대입하여 x+y에 대한 set 생성\n",
    "sum_set = {x+y for x in range(1, 6) for y in range(1, 6)}\n",
    "\n",
    "# set 출력. 중복된 값이 없음\n",
    "print(f'{sum_set = }')"
   ]
  },
  {
   "cell_type": "markdown",
   "id": "a6fc68bf",
   "metadata": {},
   "source": [
    "## tuple 컴프리헨션\n",
    "\n",
    "튜플 컴프리헨션은 튜플로 반환되지 않고 제너레이터로 변환됨.\n",
    "제너레이터: 이터레이터를 생성해주는 함수. range같이 매번 다음 값을 생성해주는 함수."
   ]
  },
  {
   "cell_type": "code",
   "execution_count": 64,
   "id": "dfcd4e72",
   "metadata": {},
   "outputs": [
    {
     "name": "stdout",
     "output_type": "stream",
     "text": [
      "nums_pairs_list = [(1, 'a'), (1, 'b'), (1, 'c'), (2, 'a'), (2, 'b'), (2, 'c')]\n",
      "\n",
      "nums_pairs_tuple = <generator object <genexpr> at 0x000001866EFCFCA0>\n",
      "tuple(nums_pairs_tuple) = ((1, 'a'), (1, 'b'), (1, 'c'), (2, 'a'), (2, 'b'), (2, 'c'))\n",
      "\n",
      "nums_pairs_tuple2 = ((1, 'a'), (1, 'b'), (1, 'c'), (2, 'a'), (2, 'b'), (2, 'c'))\n"
     ]
    }
   ],
   "source": [
    "# 1부터 2까지 순차적으로 x에 대입하고,\n",
    "# 'a', 'b', 'c'를 순차적으로 y에 대입하여 (x,y)를 리스트에 추가\n",
    "# 앞의 for문이 먼저 실행되고, 뒤의 for문이 실행됨\n",
    "nums_pairs_list = [(x,y) for x in range(1, 3) for y in ['a', 'b', 'c']]\n",
    "\n",
    "# 리스트 출력\n",
    "print(f'{nums_pairs_list = }\\n')\n",
    "\n",
    "# tuple로 컴프리헨션 적용\n",
    "nums_pairs_tuple = ((x,y) for x in range(1, 3) for y in ['a', 'b', 'c'])\n",
    "\n",
    "# 제너레이터 객체가 생성됨\n",
    "print(f'{nums_pairs_tuple = }')\n",
    "\n",
    "# 튜플로 변환\n",
    "print(f'{tuple(nums_pairs_tuple) = }\\n')\n",
    "\n",
    "# 한번에 튜플로 컴프리헨션 적용\n",
    "nums_pairs_tuple2 = tuple((x,y) for x in range(1, 3) for y in ['a', 'b', 'c'])\n",
    "print(f'{nums_pairs_tuple2 = }')"
   ]
  },
  {
   "cell_type": "markdown",
   "id": "c564dcaa",
   "metadata": {},
   "source": [
    "# 응용 "
   ]
  },
  {
   "cell_type": "code",
   "execution_count": 65,
   "id": "f80d67e2",
   "metadata": {},
   "outputs": [
    {
     "name": "stdout",
     "output_type": "stream",
     "text": [
      "['빨간색 모자', '빨간색 셔츠', '빨간색 바지', '빨간색 장갑', '빨간색 신발', '파란색 모자', '파란색 셔츠', '파란색 바지', '파란색 장갑', '파란색 신발', '초록색 모자', '초록색 셔츠', '초록색 바지', '초록색 장갑', '초록색 신발', '노란색 모자', '노란색 셔츠', '노란색 바지', '노란색 장갑', '노란색 신발']\n",
      "\n",
      "[('빨간색', '모자'), ('빨간색', '셔츠'), ('빨간색', '바지'), ('빨간색', '장갑'), ('빨간색', '신발')]\n",
      "[('파란색', '모자'), ('파란색', '셔츠'), ('파란색', '바지'), ('파란색', '장갑'), ('파란색', '신발')]\n",
      "[('초록색', '모자'), ('초록색', '셔츠'), ('초록색', '바지'), ('초록색', '장갑'), ('초록색', '신발')]\n",
      "[('노란색', '모자'), ('노란색', '셔츠'), ('노란색', '바지'), ('노란색', '장갑'), ('노란색', '신발')]\n"
     ]
    }
   ],
   "source": [
    "# 컴프리헨션으로 아래와 같은 데이터를 다루는 것이 편리해보입니다.\n",
    "\n",
    "# 두 가지 변인을 정의. 변인이 조합됨에 따라 각기 다른 정보가 되는 형태.\n",
    "colors = ['빨간색', '파란색', '초록색', '노란색']\n",
    "clothes = ['모자', '셔츠', '바지', '장갑', '신발']\n",
    "\n",
    "# 모든 경우의 수를 리스트에 담기.\n",
    "allCases = [x+' '+y for x in colors for y in clothes]\n",
    "print(allCases)\n",
    "\n",
    "print()\n",
    "\n",
    "# 두 변인을 각각 행과 열로 보면 행렬을 만들 수도 있습니다.\n",
    "# 행렬 구현(같은 행을 한 리스트로 묶음)\n",
    "matrix = [[(x,y) for y in clothes] for x in colors]\n",
    "\n",
    "# 행렬 출력(행 별로 나누어서)\n",
    "for row in matrix:\n",
    "    print(row)\n",
    "\n",
    "# 컴프리헨션 안에도 컴프리헨션을 넣어볼 수 있음을 알았습니다."
   ]
  },
  {
   "cell_type": "code",
   "execution_count": null,
   "id": "c52ef896",
   "metadata": {},
   "outputs": [
    {
     "name": "stdout",
     "output_type": "stream",
     "text": [
      "[1, 3, 5, 7]\n",
      "[5, 6]\n"
     ]
    }
   ],
   "source": [
    "# 특정 열의 항목들을 가져와 리스트로 만들 때도 컴프리헨션을 사용할 수 있겠습니다.\n",
    "\n",
    "# 이차원 데이터 행렬. (2*4 크기)\n",
    "matrix2 = [\n",
    "    [1,3,5,7],\n",
    "    [2,4,6,8]\n",
    "]\n",
    "\n",
    "# 특정 행의 항목들을 리스트로 만드는 것은 쉽습니다.\n",
    "print(matrix2[0]) # 0번째 행의 항목들의 리스트.\n",
    "\n",
    "# 특정 열의 항목들을 리스트로 만드려면 이렇게 합니다.\n",
    "someCol = 2\n",
    "someColsItems = [row[someCol] for row in matrix2] # 2번째 열의 항목들의 리스트.\n",
    "print(someColsItems)"
   ]
  }
 ],
 "metadata": {
  "kernelspec": {
   "display_name": "base",
   "language": "python",
   "name": "python3"
  },
  "language_info": {
   "codemirror_mode": {
    "name": "ipython",
    "version": 3
   },
   "file_extension": ".py",
   "mimetype": "text/x-python",
   "name": "python",
   "nbconvert_exporter": "python",
   "pygments_lexer": "ipython3",
   "version": "3.12.8"
  }
 },
 "nbformat": 4,
 "nbformat_minor": 5
}
