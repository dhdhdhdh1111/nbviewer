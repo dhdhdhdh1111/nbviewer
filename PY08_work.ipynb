{
 "cells": [
  {
   "cell_type": "markdown",
   "metadata": {},
   "source": [
    "iterable 자료형\n",
    "- 리스트, 튜플, 딕셔너리, range, set.\n",
    "\n",
    "시퀀스: 리스트처럼 여러 개의 원소와 그 순서가 존재하는 객체."
   ]
  },
  {
   "cell_type": "markdown",
   "metadata": {},
   "source": [
    "## 인덱싱\n",
    "\n",
    "이터러블 객체에서 특정 인덱스를 지정하여 추출"
   ]
  },
  {
   "cell_type": "code",
   "execution_count": 9,
   "metadata": {},
   "outputs": [
    {
     "name": "stdout",
     "output_type": "stream",
     "text": [
      "0\n",
      "1\n",
      "2\n",
      "3\n",
      "4\n"
     ]
    }
   ],
   "source": [
    "x_list = [0, 1, 2, 3, 4]\n",
    "\n",
    "# 각 요소를 인덱싱\n",
    "print(x_list[0])\n",
    "print(x_list[1])\n",
    "print(x_list[2])\n",
    "print(x_list[3])\n",
    "print(x_list[4])\n"
   ]
  },
  {
   "cell_type": "code",
   "execution_count": 10,
   "metadata": {},
   "outputs": [
    {
     "name": "stdout",
     "output_type": "stream",
     "text": [
      "4\n",
      "3\n",
      "2\n",
      "1\n",
      "0\n"
     ]
    }
   ],
   "source": [
    "x_list = [0, 1, 2, 3, 4]\n",
    "\n",
    "# 각 요소를 - 인덱싱\n",
    "print(x_list[-1])\n",
    "print(x_list[-2])\n",
    "print(x_list[-3])\n",
    "print(x_list[-4])\n",
    "print(x_list[-5])\n"
   ]
  },
  {
   "cell_type": "code",
   "execution_count": 11,
   "metadata": {},
   "outputs": [
    {
     "name": "stdout",
     "output_type": "stream",
     "text": [
      "list index out of range\n"
     ]
    }
   ],
   "source": [
    "# 인덱스 범위를 벗어나면 인덱스에러.\n",
    "try:\n",
    "    print(x_list[5])\n",
    "except IndexError as e:\n",
    "    print(e)"
   ]
  },
  {
   "cell_type": "code",
   "execution_count": 12,
   "metadata": {},
   "outputs": [
    {
     "name": "stdout",
     "output_type": "stream",
     "text": [
      "x_list = [1, 2, 3, 4, 5] \t=> x_list[0] = 1\n",
      "x_tuple = (1, 2, 3, 4, 5) \t=> x_tuple[-1] = 5\n"
     ]
    }
   ],
   "source": [
    "# 리스트와 튜플 인덱싱\n",
    "\n",
    "x_list=[1,2,3,4,5] # list\n",
    "x_tuple=(1,2,3,4,5) # tuple\n",
    "\n",
    "print(f'{x_list = } \\t=> {x_list[0] = }')\n",
    "print(f'{x_tuple = } \\t=> {x_tuple[-1] = }')"
   ]
  },
  {
   "cell_type": "code",
   "execution_count": 13,
   "metadata": {},
   "outputs": [
    {
     "name": "stdout",
     "output_type": "stream",
     "text": [
      "x_dict = {'name': ['김홍익', '이파이'], 'id': [12345, 67890]} \t=> x_dict[\"name\"][0] = '김홍익'\n"
     ]
    }
   ],
   "source": [
    "# 딕셔너리 인덱싱\n",
    "\n",
    "# key와 value로 이루어진 딕셔너리.\n",
    "x_dict={'name': ['김홍익', '이파이'], 'id':[12345, 67890]}\n",
    "\n",
    "# key를 이용하여 value에게 접근.\n",
    "print(f'{x_dict = } \\t=> {x_dict[\"name\"][0] = }')"
   ]
  },
  {
   "cell_type": "code",
   "execution_count": 14,
   "metadata": {},
   "outputs": [
    {
     "name": "stdout",
     "output_type": "stream",
     "text": [
      "x_str = 'Hello world!' \t=> x_str[0] = 'H'\n",
      "x_str = 'Hello world!' \t=> x_str[3] = 'l'\n"
     ]
    }
   ],
   "source": [
    "# 문자열 인덱싱\n",
    "\n",
    "x_str= 'Hello world!'\n",
    "\n",
    "# x_str의 0번째 원소 출력.\n",
    "print(f'{x_str = } \\t=> {x_str[0] = }')\n",
    "\n",
    "# x_str의 3번째 원소 출력.\n",
    "print(f'{x_str = } \\t=> {x_str[3] = }')"
   ]
  },
  {
   "cell_type": "markdown",
   "metadata": {},
   "source": [
    "## 슬라이싱\n",
    "\n",
    "이터러블 객체에서 특정 구간을 잘라서 추출.\n",
    "\n",
    "인덱스 범위를 : (콜론)으로 지정하여 데이터구간 추출\n",
    "\n",
    "- i:j     인덱스 i 부터 j-1\n",
    "- i:      인덱스 i 부터 끝까지\n",
    "- :j      처음부터 인덱스 j 전까지\n",
    "- :       처음부터 끝까지"
   ]
  },
  {
   "cell_type": "code",
   "execution_count": 15,
   "metadata": {},
   "outputs": [
    {
     "name": "stdout",
     "output_type": "stream",
     "text": [
      "[1, 2]\n",
      "[1, 2, 3, 4]\n",
      "[0, 1, 2]\n",
      "[0, 1, 2, 3, 4]\n"
     ]
    }
   ],
   "source": [
    "x_list=[0,1,2,3,4]\n",
    "\n",
    "# 데이터 일부를 슬라이싱\n",
    "print(x_list[1:3])\n",
    "print(x_list[1:])\n",
    "print(x_list[:3])\n",
    "print(x_list[:]) # 빈 리스트 반환."
   ]
  },
  {
   "cell_type": "code",
   "execution_count": 16,
   "metadata": {},
   "outputs": [
    {
     "name": "stdout",
     "output_type": "stream",
     "text": [
      "[1, 2, 3, 4]\n"
     ]
    }
   ],
   "source": [
    "# 슬라이싱은 인덱스 범위를 벗어난 요소에 접근해도 에러가 발생하지 않음.\n",
    "try:\n",
    "    print(x_list[1:10])\n",
    "except IndexError as e:\n",
    "    print(e)"
   ]
  },
  {
   "cell_type": "code",
   "execution_count": 17,
   "metadata": {},
   "outputs": [
    {
     "name": "stdout",
     "output_type": "stream",
     "text": [
      "x_list = [0, 1, 2, 3, 4] \t=> x_list[0:3] = [0, 1, 2]\n",
      "x_list = [0, 1, 2, 3, 4] \t=> x_list[-1:-4:-1] = [4, 3, 2]\n"
     ]
    }
   ],
   "source": [
    "# 리스트와 튜플 슬라이싱\n",
    "\n",
    "x_list=[0,1,2,3,4] # list\n",
    "x_tuple=(0,1,2,3,4) # tuple\n",
    "\n",
    "# x_list의 0번째부터 3번째 전까지 원소를 출력.\n",
    "print(f'{x_list = } \\t=> {x_list[0:3] = }')\n",
    "\n",
    "# x_list의 0번째부터 3번째 전까지 원소를 출력.\n",
    "print(f'{x_list = } \\t=> {x_list[-1:-4:-1] = }')"
   ]
  },
  {
   "cell_type": "code",
   "execution_count": 18,
   "metadata": {},
   "outputs": [
    {
     "name": "stdout",
     "output_type": "stream",
     "text": [
      "x_dict = {'name': ['김홍익', '이파이'], 'id': [12345, 67890]} \t=> x_dict[\"name\"][0:1] = ['김홍익']\n"
     ]
    }
   ],
   "source": [
    "# 딕셔너리 슬라이싱\n",
    "\n",
    "# key와 value로 이루어진 딕셔너리.\n",
    "x_dict={'name': ['김홍익', '이파이'], 'id':[12345, 67890]}\n",
    "\n",
    "# key를 이용하여 value에게 접근.\n",
    "print(f'{x_dict = } \\t=> {x_dict[\"name\"][0:1] = }')"
   ]
  },
  {
   "cell_type": "code",
   "execution_count": 19,
   "metadata": {},
   "outputs": [
    {
     "name": "stdout",
     "output_type": "stream",
     "text": [
      "x_str = 'Hello world!' \t=> x_str[0:3] = 'Hel'\n",
      "x_str = 'Hello world!' \t=> x_str[-2:-10:-2] = 'drwo'\n"
     ]
    }
   ],
   "source": [
    "# 문자열 슬라이싱\n",
    "\n",
    "x_str= 'Hello world!'\n",
    "\n",
    "# x_str의 0번째 원소에서 3번째 원소 전까지 출력.\n",
    "print(f'{x_str = } \\t=> {x_str[0:3] = }')\n",
    "\n",
    "# x_str의 뒤에서 2번째 원소에서 10번째 전의 원소까지 2칸씩 뛰며 출력.\n",
    "print(f'{x_str = } \\t=> {x_str[-2:-10:-2] = }')"
   ]
  },
  {
   "cell_type": "markdown",
   "metadata": {},
   "source": [
    "# 얕은 복사와 깊은 복사\n",
    "\n",
    "### 얕은 복사(Shallow Copy)\n",
    "- 객체를 복사할 때, 원본 객체의 주소만 복사.\n",
    "- 원본과 복사본 객체가 같은 주소를 참조하게 됨.\n",
    "- 최적화가 됨.\n",
    "- 원본을 바꾸면 복사본도 바뀜.\n",
    "\n",
    "### 깊은 복사(Deep Copy)\n",
    "- 객체를 복사할 때, 새로운 주소에 값을 복사.\n",
    "- 원본과 복사본 객체가 다른 주소를 참조하게 됨.\n",
    "\n",
    "변수끼리 assignment하면 기본적으로 얕은 복사."
   ]
  },
  {
   "cell_type": "markdown",
   "metadata": {},
   "source": [
    "immutable 객체의 assignment 예시"
   ]
  },
  {
   "cell_type": "code",
   "execution_count": 20,
   "metadata": {},
   "outputs": [
    {
     "name": "stdout",
     "output_type": "stream",
     "text": [
      "x = (1, 2, 3) \t⇒ id(x) = 1928959883264\n",
      "y = (1, 2, 3) \t⇒ id(y) = 1928959883264\n"
     ]
    }
   ],
   "source": [
    "x= (1,2,3)\n",
    "\n",
    "# y에 x를 assign\n",
    "y=x\n",
    "\n",
    "# x와 y의 메모리 주소가 같음.\n",
    "print(f'{x = } \\t⇒ {id(x) = }')\n",
    "print(f'{y = } \\t⇒ {id(y) = }')"
   ]
  },
  {
   "cell_type": "code",
   "execution_count": 21,
   "metadata": {},
   "outputs": [
    {
     "name": "stdout",
     "output_type": "stream",
     "text": [
      "x = (1, 2, 3) \t⇒ id(x) = 1928959883264\n",
      "y = (1, 20, 3) \t⇒ id(y) = 1928959737792\n"
     ]
    }
   ],
   "source": [
    "# y값을 변경 <- immutable은 원소 변경 불가능.\n",
    "y=(1,20,3)\n",
    "\n",
    "# y값을 변경하면 새로운 메모리 주소에 할당됨.\n",
    "print(f'{x = } \\t⇒ {id(x) = }')\n",
    "print(f'{y = } \\t⇒ {id(y) = }')"
   ]
  },
  {
   "cell_type": "markdown",
   "metadata": {},
   "source": [
    "mutable 객체의 얕은 복사 예시"
   ]
  },
  {
   "cell_type": "code",
   "execution_count": 22,
   "metadata": {},
   "outputs": [
    {
     "name": "stdout",
     "output_type": "stream",
     "text": [
      "x = [1, 2, 3] \t⇒ id(x) = 1928959858624\n",
      "y = [1, 2, 3] \t⇒ id(y) = 1928959858624\n"
     ]
    }
   ],
   "source": [
    "x=[1,2,3]\n",
    "\n",
    "# y에 x를 복사.\n",
    "y=x\n",
    "\n",
    "# x와 y의 메모리 주소가 같음.\n",
    "print(f'{x = } \\t⇒ {id(x) = }')\n",
    "print(f'{y = } \\t⇒ {id(y) = }')"
   ]
  },
  {
   "cell_type": "code",
   "execution_count": 23,
   "metadata": {},
   "outputs": [
    {
     "name": "stdout",
     "output_type": "stream",
     "text": [
      "x = [1, 20, 3] \t⇒ id(x) = 1928959858624\n",
      "y = [1, 20, 3] \t⇒ id(y) = 1928959858624\n"
     ]
    }
   ],
   "source": [
    "# y값을 변경.\n",
    "y[1]=20\n",
    "\n",
    "# y값을 변경하면 x값도 같이 변경됨.\n",
    "print(f'{x = } \\t⇒ {id(x) = }')\n",
    "print(f'{y = } \\t⇒ {id(y) = }')"
   ]
  },
  {
   "cell_type": "markdown",
   "metadata": {},
   "source": [
    "mutable 객체의 깊은 복사 예시"
   ]
  },
  {
   "cell_type": "code",
   "execution_count": 24,
   "metadata": {},
   "outputs": [
    {
     "name": "stdout",
     "output_type": "stream",
     "text": [
      "x = [1, 2, 3] \t⇒ id(x) = 1928959817280\n",
      "y = [1, 2, 3] \t⇒ id(y) = 1928959818368\n"
     ]
    }
   ],
   "source": [
    "x=[1,2,3]\n",
    "\n",
    "# y에 x를 복사.\n",
    "y=x.copy()\n",
    "\n",
    "# x와 y의 메모리 주소가 다름.\n",
    "print(f'{x = } \\t⇒ {id(x) = }')\n",
    "print(f'{y = } \\t⇒ {id(y) = }')"
   ]
  },
  {
   "cell_type": "code",
   "execution_count": 25,
   "metadata": {},
   "outputs": [
    {
     "name": "stdout",
     "output_type": "stream",
     "text": [
      "x = [1, 2, 3] \t⇒ id(x) = 1928959817280\n",
      "y = [1, 20, 3] \t⇒ id(y) = 1928959818368\n"
     ]
    }
   ],
   "source": [
    "# y값을 변경.\n",
    "y[1]=20\n",
    "\n",
    "# y값을 변경하여도 x값도 같이 변경되지 않음.\n",
    "print(f'{x = } \\t⇒ {id(x) = }')\n",
    "print(f'{y = } \\t⇒ {id(y) = }')"
   ]
  },
  {
   "cell_type": "markdown",
   "metadata": {},
   "source": [
    "# 리스트와 튜플\n",
    "- 다양한 타입의 원소의 목록\n",
    "- 튜플은 원소의 수정이 불가."
   ]
  },
  {
   "cell_type": "markdown",
   "metadata": {},
   "source": [
    "### 기본 사용법"
   ]
  },
  {
   "cell_type": "code",
   "execution_count": 26,
   "metadata": {},
   "outputs": [
    {
     "name": "stdout",
     "output_type": "stream",
     "text": [
      "x_list = <class 'list'>이고, x_tuple은 <class 'tuple'>이다.\n"
     ]
    }
   ],
   "source": [
    "x_list = [1, 2, 3, 4, 5]\n",
    "x_tuple = (1, 2, 3, 4, 5)\n",
    "\n",
    "print(f'x_list = {type(x_list)}이고, x_tuple은 {type(x_tuple)}이다.')"
   ]
  },
  {
   "cell_type": "code",
   "execution_count": 27,
   "metadata": {},
   "outputs": [
    {
     "name": "stdout",
     "output_type": "stream",
     "text": [
      "Before: x_list = [1, 2, 3, 4, 5]\n",
      "After: x_list = [1, '2', 3, 5]\n"
     ]
    }
   ],
   "source": [
    "# 원소 변경 전 x_list의 값을 출력.\n",
    "print(f'Before: {x_list = }')\n",
    "\n",
    "try:\n",
    "    # 인덱스 1 원소를 '2'로 변경.\n",
    "    x_list[1] = '2'\n",
    "    # 인덱스 3 원소를 삭제.\n",
    "    del x_list[3]\n",
    "except TypeError as e:\n",
    "    print(f'Error: {e}')\n",
    "\n",
    "# 원소 변경 후 x_str의 값을 출력. -> 처리됨.\n",
    "print(f'After: {x_list = }')"
   ]
  },
  {
   "cell_type": "code",
   "execution_count": 28,
   "metadata": {},
   "outputs": [
    {
     "name": "stdout",
     "output_type": "stream",
     "text": [
      "Before: x_tuple = (1, 2, 3, 4, 5)\n",
      "Error: 'tuple' object does not support item assignment\n",
      "Error: 'tuple' object doesn't support item deletion\n",
      "After: x_tuple = (1, 2, 3, 4, 5)\n"
     ]
    }
   ],
   "source": [
    "# 원소 변경 전 x_tuple의 값을 출력.\n",
    "print(f'Before: {x_tuple = }')\n",
    "\n",
    "try:\n",
    "    # 인덱스 1 원소를 '2'로 변경.\n",
    "    x_tuple[1] = '2'\n",
    "except TypeError as e:\n",
    "    print(f'Error: {e}')\n",
    "\n",
    "try:\n",
    "    # 인덱스 3 원소를 삭제.\n",
    "    del x_tuple[3]\n",
    "except TypeError as e:\n",
    "    print(f'Error: {e}')\n",
    "\n",
    "# 원소 변경 후 x_tuple의 값을 출력. -> 에러 발생으로 처리되지 않음.\n",
    "print(f'After: {x_tuple = }')\n"
   ]
  },
  {
   "cell_type": "markdown",
   "metadata": {},
   "source": [
    "## 내장함수를 이용한 리스트와 튜플 다루기.\n",
    "\n",
    "- len(): 리스트와 튜플의 길이를 구하는 함수\n",
    "- sum(): 리스트와 튜플의 원소들의 합을 구하는 함수\n",
    "- max(): 리스트와 튜플의 원소들 중 최댓값을 구하는 함수\n",
    "- min(): 리스트와 튜플의 원소들 중 최솟값을 구하는 함수\n",
    "- sorted(): 리스트와 튜플의 원소들을 정렬하는 함수\n",
    "- all(): 리스트와 튜플의 원소들이 모두 참인지 확인하는 함수\n",
    "- any(): 리스트와 튜플의 원소들 중 하나라도 참인지 확인하는 함수\n"
   ]
  },
  {
   "cell_type": "code",
   "execution_count": 29,
   "metadata": {},
   "outputs": [
    {
     "name": "stdout",
     "output_type": "stream",
     "text": [
      "len(x_list) = 5\n",
      "sum(x_list) = 10\n",
      "min(x_list) = 0\n",
      "max(x_list) = 4\n",
      "sorted(x_list) = [0, 1, 2, 3, 4]\n",
      "sorted(x_list, reverse=True) = [4, 3, 2, 1, 0]\n",
      "all(x_list) = False\n",
      "any(x_list) = True\n"
     ]
    }
   ],
   "source": [
    "x_list = [0, 1, 2, 3, 4]\n",
    "\n",
    "# x_list의 길이(원소의 개수) 출력\n",
    "print(f'{len(x_list) = }')\n",
    "\n",
    "# x_list의 원소들의 합 출력\n",
    "print(f'{sum(x_list) = }')\n",
    "\n",
    "# x_list의 원소들 중 최소값 출력\n",
    "print(f'{min(x_list) = }')\n",
    "\n",
    "# x_list의 원소들 중 최대값 출력\n",
    "print(f'{max(x_list) = }')\n",
    "\n",
    "# x_list의 원소들을 오름차순으로 정렬하여 출력\n",
    "print(f'{sorted(x_list) = }')\n",
    "\n",
    "# x_list의 원소들을 내림차순으로 정렬하여 출력\n",
    "print(f'{sorted(x_list, reverse=True) = }')\n",
    "\n",
    "# x_list의 모든 원소가 참이면(0이 아니면) True, 아니면 False 출력\n",
    "print(f'{all(x_list) = }')\n",
    "\n",
    "# x_list의 원소 중 하나라도 참이면(0이 아니면) True, 아니면 False 출력\n",
    "print(f'{any(x_list) = }')"
   ]
  },
  {
   "cell_type": "markdown",
   "metadata": {},
   "source": [
    "## 객체 메서드를 이용한 리스트와 튜플 다루기."
   ]
  },
  {
   "cell_type": "code",
   "execution_count": 30,
   "metadata": {},
   "outputs": [
    {
     "name": "stdout",
     "output_type": "stream",
     "text": [
      "['__add__', '__class__', '__class_getitem__', '__contains__', '__delattr__', '__delitem__', '__dir__', '__doc__', '__eq__', '__format__', '__ge__', '__getattribute__', '__getitem__', '__getstate__', '__gt__', '__hash__', '__iadd__', '__imul__', '__init__', '__init_subclass__', '__iter__', '__le__', '__len__', '__lt__', '__mul__', '__ne__', '__new__', '__reduce__', '__reduce_ex__', '__repr__', '__reversed__', '__rmul__', '__setattr__', '__setitem__', '__sizeof__', '__str__', '__subclasshook__', 'append', 'clear', 'copy', 'count', 'extend', 'index', 'insert', 'pop', 'remove', 'reverse', 'sort']\n",
      "================================================================================\n",
      "['__add__', '__class__', '__class_getitem__', '__contains__', '__delattr__', '__dir__', '__doc__', '__eq__', '__format__', '__ge__', '__getattribute__', '__getitem__', '__getnewargs__', '__getstate__', '__gt__', '__hash__', '__init__', '__init_subclass__', '__iter__', '__le__', '__len__', '__lt__', '__mul__', '__ne__', '__new__', '__reduce__', '__reduce_ex__', '__repr__', '__rmul__', '__setattr__', '__sizeof__', '__str__', '__subclasshook__', 'count', 'index']\n"
     ]
    }
   ],
   "source": [
    "# x_list의 메소드를 확인\n",
    "print(dir(x_list), end='\\n' + '='*80 + '\\n')\n",
    "\n",
    "# x_tuple의 메소드를 확인 -> x_list보다 적은 메소드를 가지고 있음\n",
    "print(dir(x_tuple))"
   ]
  },
  {
   "cell_type": "markdown",
   "metadata": {},
   "source": [
    "### 각 메서드의 기능\n",
    "- append: 리스트의 맨 뒤에 원소를 추가.\n",
    "- clear: 리스트의 모든 원소를 삭제. 리스트는 존재. 빈 리스트가 됨.\n",
    "- copy: 리스트를 복사, 주소값이 아닌 값 자체를 복사.\n",
    "- count: 리스트(튜플)에서 특정 원소의 개수를 반환.\n",
    "- extend: 리스트를 확장. 리스트를 연결.\n",
    "- index: 리스트(튜플)에서 특정 원소의 인덱스를 반환.\n",
    "- insert: 리스트의 특정 위치에 원소를 삽입.\n",
    "- pop: 리스트의 특정 위치에 있는 원소를 삭제.\n",
    "- remove: 리스트에서 특정 원소를 찾아서 삭제.\n",
    "- reverse: 리스트의 원소를 역순으로 함.\n",
    "- sort: 리스트의 원소를 정렬.\n"
   ]
  },
  {
   "cell_type": "code",
   "execution_count": 31,
   "metadata": {},
   "outputs": [
    {
     "name": "stdout",
     "output_type": "stream",
     "text": [
      "x_list = [1, 2, 3, 4, 5, 2, 3, 2]\n",
      "x_list.count(2) = 3\n",
      "x_list.index(2) = 1\n"
     ]
    }
   ],
   "source": [
    "x_list = [1, 2, 3, 4, 5, 2, 3, 2]\n",
    "print(f\"{x_list = }\")\n",
    "\n",
    "# x_list에서 2의 개수를 출력\n",
    "print(f\"{x_list.count(2) = }\")\n",
    "\n",
    "# x_list에서 2의 첫번째 인덱스를 출력\n",
    "print(f\"{x_list.index(2) = }\")"
   ]
  },
  {
   "cell_type": "code",
   "execution_count": 32,
   "metadata": {},
   "outputs": [
    {
     "name": "stdout",
     "output_type": "stream",
     "text": [
      "y_list = [1, 2, 3, 4, 5, 2, 3, 2]\n",
      "x_list is y_list = False\n",
      "id(x_list) = 1928959849280, id(y_list) = 1928959882176\n"
     ]
    }
   ],
   "source": [
    "# x_list를 복사하여 y_list에 할당\n",
    "y_list = x_list.copy()\n",
    "\n",
    "# y_list의 값을 출력\n",
    "print(f\"{y_list = }\")\n",
    "\n",
    "# x_list와 y_list가 같은 객체(주소)인지 확인\n",
    "print(f\"{x_list is y_list = }\")\n",
    "\n",
    "# x_list의 주소를 출력\n",
    "print(f\"{id(x_list) = }, {id(y_list) = }\")"
   ]
  },
  {
   "cell_type": "code",
   "execution_count": 33,
   "metadata": {},
   "outputs": [
    {
     "name": "stdout",
     "output_type": "stream",
     "text": [
      "x_list = [1, 2, 3, 4, 5, 2, 3, 2]\n"
     ]
    }
   ],
   "source": [
    "# 리스트를 역순으로 정렬\n",
    "x_list = [2, 3, 2, 5, 4, 3, 2, 1]\n",
    "x_list.reverse()\n",
    "print(f\"{x_list = }\")"
   ]
  },
  {
   "cell_type": "code",
   "execution_count": 34,
   "metadata": {},
   "outputs": [
    {
     "name": "stdout",
     "output_type": "stream",
     "text": [
      "x_list = [1, 2, 2, 2, 3, 3, 4, 5]\n"
     ]
    }
   ],
   "source": [
    "# 리스트를 오름차순으로 정렬\n",
    "x_list.sort()\n",
    "print(f\"{x_list = }\")"
   ]
  },
  {
   "cell_type": "code",
   "execution_count": 35,
   "metadata": {},
   "outputs": [
    {
     "name": "stdout",
     "output_type": "stream",
     "text": [
      "x_list = [1, 2, 2, 2, 3, 3, 4, 5, 6]\n"
     ]
    }
   ],
   "source": [
    "# 리스트 맨 뒤에 6 추가\n",
    "x_list.append(6)\n",
    "print(f\"{x_list = }\")"
   ]
  },
  {
   "cell_type": "code",
   "execution_count": 36,
   "metadata": {},
   "outputs": [
    {
     "name": "stdout",
     "output_type": "stream",
     "text": [
      "x_list = [1, 2, 2, 2, 3, 3, 4, 5, 6, 7, 8, 9]\n"
     ]
    }
   ],
   "source": [
    "# 리스트에 [7, 8, 9] 연결\n",
    "x_list.extend([7, 8, 9])\n",
    "print(f\"{x_list = }\")"
   ]
  },
  {
   "cell_type": "code",
   "execution_count": 37,
   "metadata": {},
   "outputs": [
    {
     "name": "stdout",
     "output_type": "stream",
     "text": [
      "x_list = [1, 2, 2, 2, 3, 3, 4, 5, 6, 7, 8, 9, [10, 11, 12]]\n"
     ]
    }
   ],
   "source": [
    "# 리스트 맨 뒤에 [10, 11, 12] 추가\n",
    "x_list.append([10, 11, 12])\n",
    "print(f\"{x_list = }\")"
   ]
  },
  {
   "cell_type": "code",
   "execution_count": 38,
   "metadata": {},
   "outputs": [
    {
     "name": "stdout",
     "output_type": "stream",
     "text": [
      "x_list = [1, 2, 2, 3.5, 2, 3, 3, 4, 5, 6, 7, 8, 9, [10, 11, 12]]\n"
     ]
    }
   ],
   "source": [
    "# 리스트 인덱스 3에 3.5 추가\n",
    "x_list.insert(3, 3.5)\n",
    "print(f\"{x_list = }\")"
   ]
  },
  {
   "cell_type": "code",
   "execution_count": 39,
   "metadata": {},
   "outputs": [
    {
     "name": "stdout",
     "output_type": "stream",
     "text": [
      "x_list = [1, 2, 2, 2, 3, 3, 4, 5, 6, 7, 8, 9, [10, 11, 12]]\n"
     ]
    }
   ],
   "source": [
    "# 리스트에서 3.5를 찾아서 삭제\n",
    "x_list.remove(3.5)\n",
    "print(f\"{x_list = }\")"
   ]
  },
  {
   "cell_type": "code",
   "execution_count": 40,
   "metadata": {},
   "outputs": [
    {
     "name": "stdout",
     "output_type": "stream",
     "text": [
      "x_list = [1, 2, 2, 2, 3, 3, 4, 5, 6, 7, 8, 9]\n",
      "x_list = [1, 2, 2, 2, 3, 3, 4, 6, 7, 8, 9]\n"
     ]
    }
   ],
   "source": [
    "# 리스트의 마지막 원소를 삭제\n",
    "x_list.pop()\n",
    "print(f\"{x_list = }\")\n",
    "\n",
    "# 리스트의 인덱스 7 위치의 원소를 삭제\n",
    "x_list.pop(7)\n",
    "print(f\"{x_list = }\")"
   ]
  },
  {
   "cell_type": "code",
   "execution_count": 41,
   "metadata": {},
   "outputs": [
    {
     "name": "stdout",
     "output_type": "stream",
     "text": [
      "x_list = [2, 2, 2, 3, 3, 4, 6, 7, 8, 9], x_pop = 1\n"
     ]
    }
   ],
   "source": [
    "# x_list의 pop 메소드를 이용하여 인덱스 0의 원소를 삭제하고, 삭제한 값을 x_pop에 할당\n",
    "x_pop = x_list.pop(0)\n",
    "print(f\"{x_list = }, {x_pop = }\")"
   ]
  },
  {
   "cell_type": "code",
   "execution_count": 42,
   "metadata": {},
   "outputs": [
    {
     "name": "stdout",
     "output_type": "stream",
     "text": [
      "x_list = []\n"
     ]
    }
   ],
   "source": [
    "# x_list의 clear 메소드를 이용하여 모든 원소를 삭제\n",
    "x_list.clear()\n",
    "print(f\"{x_list = }\")"
   ]
  },
  {
   "cell_type": "code",
   "execution_count": 43,
   "metadata": {},
   "outputs": [
    {
     "name": "stdout",
     "output_type": "stream",
     "text": [
      "Error: name 'x_list' is not defined\n"
     ]
    }
   ],
   "source": [
    "# x_list를 삭제\n",
    "del x_list\n",
    "\n",
    "try:\n",
    "    # x_list의 값을 출력\n",
    "    print(f\"{x_list = }\")\n",
    "except NameError as e:\n",
    "    print(f\"Error: {e}\")"
   ]
  },
  {
   "cell_type": "markdown",
   "metadata": {},
   "source": [
    "# 문자열\n",
    "\n",
    "## 문자열 생성\n",
    "1. 큰따옴표로 둘러싸기\n",
    "2. 작은따옴표로 둘러싸기\n",
    "3. 큰따옴표 3개 연속으로 둘러싸기 -> 여러줄 작성 가능.\n",
    "4. 작은따옴표 3개 연속으로 둘러싸기 -> 여러줄 작성 가능."
   ]
  },
  {
   "cell_type": "code",
   "execution_count": 44,
   "metadata": {},
   "outputs": [
    {
     "name": "stdout",
     "output_type": "stream",
     "text": [
      "Hello Python! My name is Python. I am a Python Developer.\n"
     ]
    }
   ],
   "source": [
    "string1 = \"Hello Python! My name is Python. I am a Python Developer.\"\n",
    "print(string1)"
   ]
  },
  {
   "cell_type": "code",
   "execution_count": 45,
   "metadata": {},
   "outputs": [
    {
     "name": "stdout",
     "output_type": "stream",
     "text": [
      "Hello Python! My name is Python. I am a Python Developer.\n"
     ]
    }
   ],
   "source": [
    "string2 = 'Hello Python! My name is Python. I am a Python Developer.'\n",
    "print(string2)"
   ]
  },
  {
   "cell_type": "code",
   "execution_count": 46,
   "metadata": {},
   "outputs": [
    {
     "name": "stdout",
     "output_type": "stream",
     "text": [
      "Hello Python!\n",
      "My name is Python.\n",
      "I am a Python Developer.\n",
      "\n"
     ]
    }
   ],
   "source": [
    "string3 = \"\"\"Hello Python!\n",
    "My name is Python.\n",
    "I am a Python Developer.\n",
    "\"\"\"\n",
    "print(string3)"
   ]
  },
  {
   "cell_type": "code",
   "execution_count": 47,
   "metadata": {},
   "outputs": [
    {
     "name": "stdout",
     "output_type": "stream",
     "text": [
      "Hello Python!\n",
      "My name is Python.\n",
      "I am a Python Developer.\n",
      "\n"
     ]
    }
   ],
   "source": [
    "string4 = '''Hello Python!\n",
    "My name is Python.\n",
    "I am a Python Developer.\n",
    "'''\n",
    "print(string4)"
   ]
  },
  {
   "cell_type": "markdown",
   "metadata": {},
   "source": [
    "## 이스케이프 문자\n",
    "\n",
    "- \\\\n 줄바꿈\n",
    "- \\\\t 탭\n",
    "- \\\\\\\\ 역슬래시 출력\n",
    "- \\\\' , \\\\\" 따옴표 출력."
   ]
  },
  {
   "cell_type": "code",
   "execution_count": 48,
   "metadata": {},
   "outputs": [
    {
     "name": "stdout",
     "output_type": "stream",
     "text": [
      "Hello \tPython! \n",
      "My \tname \tis \tPython. \n",
      "I \tam \ta \tPython \tDeveloper.\n"
     ]
    }
   ],
   "source": [
    "string = 'Hello \\tPython! \\nMy \\tname \\tis \\tPython. \\nI \\tam \\ta \\tPython \\tDeveloper.'\n",
    "print(string)"
   ]
  },
  {
   "cell_type": "code",
   "execution_count": 49,
   "metadata": {},
   "outputs": [
    {
     "name": "stdout",
     "output_type": "stream",
     "text": [
      "Hello \t\\Python\\! \n",
      "My \tname \tis \t'Python'!. \n",
      "I \tam \ta \t\"Python\" \tDeveloper.\n"
     ]
    }
   ],
   "source": [
    "string = 'Hello \\t\\\\Python\\\\! \\nMy \\tname \\tis \\t\\'Python\\'!. \\nI \\tam \\ta \\t\\\"Python\\\" \\tDeveloper.'\n",
    "print(string)"
   ]
  },
  {
   "cell_type": "markdown",
   "metadata": {},
   "source": [
    "## 문자열의 종류\n",
    "- r-string은 이스케이프 문자를 무시하고 그대로 문자열 생성.\n",
    "- f-string은 문자열 내부에 변수를 사용할 수 있음."
   ]
  },
  {
   "cell_type": "code",
   "execution_count": 50,
   "metadata": {},
   "outputs": [
    {
     "name": "stdout",
     "output_type": "stream",
     "text": [
      "Hello \\t\\\\Python\\\\! \\nMy \\tname \\tis \\t\\'Python\\'!. \\nI \\tam \\ta \\t\\\"Python\\\" \\tDeveloper.\n",
      "Hello Python! My name is Python. I am a Python Developer.\n"
     ]
    }
   ],
   "source": [
    "# r-string\n",
    "string_r = r'Hello \\t\\\\Python\\\\! \\nMy \\tname \\tis \\t\\'Python\\'!. \\nI \\tam \\ta \\t\\\"Python\\\" \\tDeveloper.'\n",
    "print(string_r)\n",
    "\n",
    "# f-string\n",
    "name = 'Python'\n",
    "string_f = f'Hello {name}! My name is {name}. I am a {name} Developer.'\n",
    "print(string_f)"
   ]
  },
  {
   "cell_type": "markdown",
   "metadata": {},
   "source": [
    "## 문자열의 인덱싱과 슬라이싱"
   ]
  },
  {
   "cell_type": "code",
   "execution_count": 51,
   "metadata": {},
   "outputs": [
    {
     "name": "stdout",
     "output_type": "stream",
     "text": [
      "\n",
      "==== 인덱싱(포인트) ====\n",
      "string[0]='H'\n",
      "string[3]='l'\n",
      "string[-1]='.'\n",
      "string[-3]='e'\n",
      "\n",
      "==== 슬라이싱(구간) ====\n",
      "string[0:5]='Hello'\n",
      "string[6:12]='Python'\n",
      "string[:5]='Hello'\n",
      "string[6:]='Python! My name is Python. I am a Python Developer.'\n",
      "string[6:-1]='Python! My name is Python. I am a Python Developer'\n",
      "string[6:-3]='Python! My name is Python. I am a Python Develop'\n",
      "\n",
      "==== 스텝(간격) ====\n",
      "- 인덱스 6부터 2칸씩 12까지\n",
      "string[6:12:2]='Pto'\n",
      "- 처음부터 끝까지 2칸씩\n",
      "string[::2]='HloPto!M aei yhn  maPto eeoe.'\n",
      "- 처음부터 끝까지 거꾸로 1칸씩\n",
      "string[::-1]='.repoleveD nohtyP a ma I .nohtyP si eman yM !nohtyP olleH'\n",
      "\n"
     ]
    }
   ],
   "source": [
    "string = \"Hello Python! My name is Python. I am a Python Developer.\"\n",
    "\n",
    "print(f'''\n",
    "==== 인덱싱(포인트) ====\n",
    "{string[0]=}\n",
    "{string[3]=}\n",
    "{string[-1]=}\n",
    "{string[-3]=}\n",
    "\n",
    "==== 슬라이싱(구간) ====\n",
    "{string[0:5]=}\n",
    "{string[6:12]=}\n",
    "{string[:5]=}\n",
    "{string[6:]=}\n",
    "{string[6:-1]=}\n",
    "{string[6:-3]=}\n",
    "\n",
    "==== 스텝(간격) ====\n",
    "- 인덱스 6부터 2칸씩 12까지\n",
    "{string[6:12:2]=}\n",
    "- 처음부터 끝까지 2칸씩\n",
    "{string[::2]=}\n",
    "- 처음부터 끝까지 거꾸로 1칸씩\n",
    "{string[::-1]=}\n",
    "''')"
   ]
  },
  {
   "cell_type": "markdown",
   "metadata": {},
   "source": [
    "# 문자열 연산"
   ]
  },
  {
   "cell_type": "code",
   "execution_count": 52,
   "metadata": {},
   "outputs": [
    {
     "name": "stdout",
     "output_type": "stream",
     "text": [
      "Hello Python! My name is Python. I am a Python Developer.\n"
     ]
    }
   ],
   "source": [
    "# 문자열 연결\n",
    "string = \"Hello Python! \" + \"My name is Python. \" + \"I am a Python Developer.\"\n",
    "print(string)"
   ]
  },
  {
   "cell_type": "code",
   "execution_count": 53,
   "metadata": {},
   "outputs": [
    {
     "name": "stdout",
     "output_type": "stream",
     "text": [
      "Hello Python! Hello Python! Hello Python! \n"
     ]
    }
   ],
   "source": [
    "# 문자열 반복\n",
    "string = \"Hello Python! \" * 3\n",
    "print(string)"
   ]
  },
  {
   "cell_type": "markdown",
   "metadata": {},
   "source": [
    "## 문자열 관련 함수\n",
    "- len() : 문자열의 길이를 반환.\n",
    "- in : 문자열 내부에 해당 문자열이 있는지 확인.\n",
    "- not in : 문자열 내부에 해당 문자열이 없는지 확인."
   ]
  },
  {
   "cell_type": "code",
   "execution_count": 54,
   "metadata": {},
   "outputs": [
    {
     "name": "stdout",
     "output_type": "stream",
     "text": [
      "22\n",
      "True\n",
      "True\n"
     ]
    }
   ],
   "source": [
    "string = \"2024_바이오헬스 교과목 목록.xlsx\"\n",
    "\n",
    "# 문자열 길이\n",
    "print(len(string))\n",
    "\n",
    "# 문자열에 2024가 포함되어 있는지 확인\n",
    "print('2024' in string)\n",
    "\n",
    "# 문자열에 'csv'가 포함되어 있지 않은지 확인\n",
    "print('csv' not in string)"
   ]
  },
  {
   "cell_type": "markdown",
   "metadata": {},
   "source": [
    "# 딕셔너리\n",
    "\n",
    "## Dictionary 생성 및 선언\n",
    "\n",
    "1. 중괄호({})로 정의\n",
    "   - key:value 형태로 하나의 요소를 구성\n",
    "   - 각 요소는 쉼표(,)로 구분\n",
    "\n",
    "2. dict() 내장함수를 사용하여 딕셔너리 생성\n",
    "   - dict(key1=value1, key2=value2, ...) 형태로 생성\n",
    "\n",
    "3. 다른 자료형을 딕셔너리로 변환\n",
    "   - dict([(key1, value1), (key2, value2), ...]) : 리스트 안에 튜플을 넣어 딕셔너리로 변환\n",
    "   - dict(zip(key_list, value_list)) : 리스트 두 개를 딕셔너리로 변환"
   ]
  },
  {
   "cell_type": "code",
   "execution_count": 55,
   "metadata": {},
   "outputs": [
    {
     "name": "stdout",
     "output_type": "stream",
     "text": [
      "my_dict1 = {}\n",
      "my_dict2 = {}\n"
     ]
    }
   ],
   "source": [
    "# 빈 Dictionary 생성\n",
    "\n",
    "# 중괄호로 딕셔너리 생성 -> 요소가 없는 딕셔너리\n",
    "my_dict1 = {}\n",
    "\n",
    "# dict() 함수로 딕셔너리 생성 -> 요소가 없는 딕셔너리\n",
    "my_dict2 = dict()\n",
    "\n",
    "print(f'{my_dict1 = }\\n{my_dict2 = }')"
   ]
  },
  {
   "cell_type": "code",
   "execution_count": 56,
   "metadata": {},
   "outputs": [
    {
     "name": "stdout",
     "output_type": "stream",
     "text": [
      "my_dict1 = {'name': 'Max', 'age': 28, 'city': 'New York'}\n",
      "my_dict2 = {'name': 'Max', 'age': 28, 'city': 'New York'}\n",
      "my_dict3 = {'name': 'Max', 'age': 28, 'city': 'New York'}\n"
     ]
    }
   ],
   "source": [
    "# 요소가 있는 Dictionary 생성\n",
    "\n",
    "# 중괄호로 딕셔너리 생성 -> key:value 형태로 요소 추가\n",
    "my_dict1 = {'name': 'Max', 'age': 28, 'city': 'New York'}\n",
    "\n",
    "# dict() 함수로 딕셔너리 생성 -> key=value 형태로 요소 추가\n",
    "# key는 문자열로 지정됨\n",
    "my_dict2 = dict(name='Max', age=28, city='New York')\n",
    "\n",
    "# dict() 함수로 딕셔너리 변환 -> (key,value) 리스트로 요소 추가\n",
    "my_dict3 = dict([('name', 'Max'), ('age', 28), ('city', 'New York')])\n",
    "\n",
    "print(f\"{my_dict1 = }\\n{my_dict2 = }\\n{my_dict3 = }\")"
   ]
  },
  {
   "cell_type": "code",
   "execution_count": 57,
   "metadata": {},
   "outputs": [
    {
     "name": "stdout",
     "output_type": "stream",
     "text": [
      "my_dict4 = {'name': 'Max', 'age': 28, 'city': 'New York'}\n"
     ]
    }
   ],
   "source": [
    "person_keys = ['name', 'age', 'city']\n",
    "person_values = ['Max', 28, 'New York']\n",
    "\n",
    "# zip() 묶은 후 dict()로 변환\n",
    "my_dict4 = dict(zip(person_keys, person_values))\n",
    "\n",
    "print(f\"{my_dict4 = }\")"
   ]
  },
  {
   "cell_type": "code",
   "execution_count": 58,
   "metadata": {},
   "outputs": [
    {
     "name": "stdout",
     "output_type": "stream",
     "text": [
      "my_dict_dict = {'A': {'name': 'Max', 'age': 28, 'city': 'New York'}, 'B': {'name': 'Mary', 'age': 22, 'city': 'Seoul'}}\n"
     ]
    }
   ],
   "source": [
    "# 딕셔너리를 value로 가지는 딕셔너리 생성.\n",
    "\n",
    "my_dict_dict = {'A': {'name': 'Max', 'age': 28, 'city': 'New York'},\n",
    "                'B': {'name': 'Mary', 'age': 22, 'city': 'Seoul'}}\n",
    "print(f'{my_dict_dict = }')"
   ]
  },
  {
   "cell_type": "code",
   "execution_count": 59,
   "metadata": {},
   "outputs": [
    {
     "name": "stdout",
     "output_type": "stream",
     "text": [
      "{'A': {'age': 28, 'city': 'New York', 'name': 'Max'},\n",
      " 'B': {'age': 22, 'city': 'Seoul', 'name': 'Mary'}}\n"
     ]
    }
   ],
   "source": [
    "# pprint 이용하면 딕셔너리를 예쁘게 출력할 수 있음\n",
    "\n",
    "from pprint import pprint\n",
    "pprint(my_dict_dict)"
   ]
  },
  {
   "cell_type": "markdown",
   "metadata": {},
   "source": [
    "# 딕셔너리 살펴보기"
   ]
  },
  {
   "cell_type": "code",
   "execution_count": 60,
   "metadata": {},
   "outputs": [
    {
     "name": "stdout",
     "output_type": "stream",
     "text": [
      "my_dict1 = {'name': 'Max', 'age': 28, 'city': 'New York'}\n",
      "type(my_dict1) = <class 'dict'>\n",
      "len(my_dict1) = 3\n",
      "True\n",
      "False\n"
     ]
    }
   ],
   "source": [
    "# 형태 확인하기\n",
    "\n",
    "print(f'{my_dict1 = }')\n",
    "\n",
    "# 딕셔너리 유형 확인\n",
    "print(f'{type(my_dict1) = }')\n",
    "\n",
    "# 딕셔너리 길이(key의 개수) 확인\n",
    "print(f'{len(my_dict1) = }')\n",
    "\n",
    "# key 존재 여부 확인\n",
    "print(\"name\" in my_dict1)\n",
    "\n",
    "# value 존재 여부는 in을 이용하여 확인할 수 없음\n",
    "print(\"Max\" in my_dict1)"
   ]
  },
  {
   "cell_type": "code",
   "execution_count": 61,
   "metadata": {},
   "outputs": [
    {
     "name": "stdout",
     "output_type": "stream",
     "text": [
      "my_dict1[\"name\"] = Max\n",
      "KeyError: 'name2'\n"
     ]
    }
   ],
   "source": [
    "# 내용 확인하기\n",
    "\n",
    "# key로 value에 접근\n",
    "print(f'my_dict1[\"name\"] = {my_dict1[\"name\"]}')\n",
    "\n",
    "try:\n",
    "    # key가 없으면 에러발생\n",
    "    print(f'my_dict1[\"name2\"] = {my_dict1[\"name2\"]}')\n",
    "except KeyError as e:\n",
    "    print(f'KeyError: {e}')"
   ]
  },
  {
   "cell_type": "code",
   "execution_count": 62,
   "metadata": {},
   "outputs": [
    {
     "name": "stdout",
     "output_type": "stream",
     "text": [
      "my_dict_dict[\"A\"][\"name\"] = Max\n"
     ]
    }
   ],
   "source": [
    "# 중첩된 dict의 값에 접근\n",
    "print(f'my_dict_dict[\"A\"][\"name\"] = {my_dict_dict[\"A\"][\"name\"]}')"
   ]
  },
  {
   "cell_type": "code",
   "execution_count": 63,
   "metadata": {},
   "outputs": [
    {
     "name": "stdout",
     "output_type": "stream",
     "text": [
      "my_dict1.get(\"name\") = 'Max'\n",
      "my_dict1.get(\"name2\") = None\n",
      "my_dict1.get(\"name2\", \"replacement\") = 'replacement'\n"
     ]
    }
   ],
   "source": [
    "# get() 메서드로 에러 회피하며 값 가져오기\n",
    "\n",
    "# key로 값에 접근\n",
    "print(f'{my_dict1.get(\"name\") = }')\n",
    "\n",
    "# key가 없으면 None을 반환. 에러발생하지 않음\n",
    "print(f'{my_dict1.get(\"name2\") = }')\n",
    "\n",
    "# key가 없으면 대체값을 반환\n",
    "print(f'{my_dict1.get(\"name2\", \"replacement\") = }')"
   ]
  },
  {
   "cell_type": "code",
   "execution_count": 64,
   "metadata": {},
   "outputs": [
    {
     "name": "stdout",
     "output_type": "stream",
     "text": [
      "my_dict1.keys() = dict_keys(['name', 'age', 'city'])\n",
      "my_dict1.values() = dict_values(['Max', 28, 'New York'])\n",
      "my_dict1.items() = dict_items([('name', 'Max'), ('age', 28), ('city', 'New York')])\n"
     ]
    }
   ],
   "source": [
    "# 메서드를 이용하여 key, value, item 가져오기\n",
    "\n",
    "# key 목록 가져오기\n",
    "print(f'{my_dict1.keys() = }')\n",
    "\n",
    "# 값 목록 가져오기\n",
    "print(f'{my_dict1.values() = }')\n",
    "\n",
    "# 키와 값의 쌍을 가져오기\n",
    "print(f'{my_dict1.items() = }')"
   ]
  },
  {
   "cell_type": "markdown",
   "metadata": {},
   "source": [
    "# 딕셔너리 요소 추가, 삭제, 수정하기"
   ]
  },
  {
   "cell_type": "code",
   "execution_count": 65,
   "metadata": {},
   "outputs": [
    {
     "name": "stdout",
     "output_type": "stream",
     "text": [
      "my_dict1 = {'name': 'Max', 'age': 28, 'city': 'New York'}\n",
      "my_dict1 = {'name': 'Max', 'age': 28, 'city': 'New York', 'id': 123}\n"
     ]
    }
   ],
   "source": [
    "# 요소 추가 및 삭제하기\n",
    "\n",
    "print(f'{my_dict1 = }')\n",
    "\n",
    "# 새로운 키와 값을 추가\n",
    "my_dict1[\"id\"] = 123\n",
    "print(f'{my_dict1 = }')"
   ]
  },
  {
   "cell_type": "code",
   "execution_count": 66,
   "metadata": {},
   "outputs": [
    {
     "name": "stdout",
     "output_type": "stream",
     "text": [
      "my_dict1 = {'name': 'Max', 'age': 28, 'city': 'New York'}\n"
     ]
    }
   ],
   "source": [
    "# 키와 값을 삭제\n",
    "del my_dict1[\"id\"]\n",
    "print(f'{my_dict1 = }')"
   ]
  },
  {
   "cell_type": "code",
   "execution_count": 67,
   "metadata": {},
   "outputs": [
    {
     "name": "stdout",
     "output_type": "stream",
     "text": [
      "my_dict1 = {'name': 'Max', 'age': 30, 'city': 'New York'}\n"
     ]
    }
   ],
   "source": [
    "# 요소의 값만 수정하기\n",
    "\n",
    "# 키가 있으면 값을 수정, 없으면 추가\n",
    "my_dict1[\"age\"] = 30\n",
    "print(f'{my_dict1 = }')"
   ]
  },
  {
   "cell_type": "code",
   "execution_count": 68,
   "metadata": {},
   "outputs": [
    {
     "name": "stdout",
     "output_type": "stream",
     "text": [
      "my_dict1 = {'name': 'Max', 'age': 40, 'city': 'New York', 'id': 123, 'occupation': 'Data Scientist'}\n",
      "my_dict1 = {'name': 'Max', 'age': 50, 'city': 'New York', 'id': 123, 'occupation': 'Data Scientist', 'affiliation': 'Hongik Univ.'}\n"
     ]
    }
   ],
   "source": [
    "# update()를 이용하여 여러 개의 요소를 한 번에 수정하기\n",
    "\n",
    "# 여러개의 키와 값을 수정, 추가\n",
    "my_dict1.update(age=40, id=123, occupation=\"Data Scientist\")\n",
    "print(f'{my_dict1 = }')\n",
    "\n",
    "# 다른 dict를 통째로 추가\n",
    "my_dict_more = {\"age\": 50, \"affiliation\": \"Hongik Univ.\"}\n",
    "my_dict1.update(my_dict_more)\n",
    "print(f'{my_dict1 = }')"
   ]
  },
  {
   "cell_type": "code",
   "execution_count": 69,
   "metadata": {},
   "outputs": [
    {
     "name": "stdout",
     "output_type": "stream",
     "text": [
      "my_dict1 = {'name': 'Max', 'age': 50, 'city': 'New York', 'id': 123, 'occupation': 'Data Scientist'}\n"
     ]
    }
   ],
   "source": [
    "# pop()을 이용하여 요소 삭제하고 저장하기\n",
    "\n",
    "# 키와 값을 삭제\n",
    "my_dict1.pop(\"affiliation\")\n",
    "print(f'{my_dict1 = }')"
   ]
  },
  {
   "cell_type": "code",
   "execution_count": 70,
   "metadata": {},
   "outputs": [
    {
     "name": "stdout",
     "output_type": "stream",
     "text": [
      "my_dict1 = {'name': 'Max', 'age': 50, 'city': 'New York', 'id': 123}\n",
      "occupation = 'Data Scientist'\n"
     ]
    }
   ],
   "source": [
    "# 키와 값을 삭제하고 값을 반환\n",
    "occupation = my_dict1.pop(\"occupation\")\n",
    "print(f'{my_dict1 = }\\n{occupation = }')"
   ]
  },
  {
   "cell_type": "code",
   "execution_count": 71,
   "metadata": {},
   "outputs": [
    {
     "name": "stdout",
     "output_type": "stream",
     "text": [
      "KeyError: 'occupation'\n",
      "occupation = 'unknown'\n"
     ]
    }
   ],
   "source": [
    "# pop()의 두 번째 인자로 default 값을 지정하여 에러 회피하기\n",
    "\n",
    "try:\n",
    "    # 키가 없으면 에러발생\n",
    "    my_dict1.pop(\"occupation\")\n",
    "except KeyError as e:\n",
    "    print(f'KeyError: {e}')\n",
    "\n",
    "# pop()을 사용하면, 키가 없어도 에러발생하지 않음\n",
    "occupation = my_dict1.pop(\"occupation\", \"unknown\")\n",
    "print(f'{occupation = }')"
   ]
  },
  {
   "cell_type": "code",
   "execution_count": 72,
   "metadata": {},
   "outputs": [
    {
     "name": "stdout",
     "output_type": "stream",
     "text": [
      "my_dict1 = {'name': 'Max', 'age': 50, 'city': 'New York', 'id': 123}\n",
      "my_dict1 = {'name': 'Max', 'age': 50, 'city': 'New York'}\n",
      "last = ('id', 123)\n",
      "my_dict1 = {'name': 'Max', 'age': 50}\n",
      "last = ('city', 'New York')\n"
     ]
    }
   ],
   "source": [
    "# popitem() 이용하여 마지막 요소 삭제하기\n",
    "\n",
    "print(f'{my_dict1 = }')\n",
    "\n",
    "# 마지막 키와 값을 삭제\n",
    "# 딕셔너리는 원소의 순서가 없어 임의의 키와 값을 삭제하는 것과 동일\n",
    "last = my_dict1.popitem()\n",
    "print(f'{my_dict1 = }\\n{last = }')\n",
    "\n",
    "# 다시 임의의 키와 값을 삭제\n",
    "last = my_dict1.popitem()\n",
    "print(f'{my_dict1 = }\\n{last = }')"
   ]
  },
  {
   "cell_type": "code",
   "execution_count": 73,
   "metadata": {},
   "outputs": [
    {
     "name": "stdout",
     "output_type": "stream",
     "text": [
      "my_dict1 = {}\n"
     ]
    }
   ],
   "source": [
    "# clear() 이용하여 모든 요소 삭제하기\n",
    "\n",
    "# 모든 키와 값을 삭제\n",
    "my_dict1.clear()\n",
    "print(f'{my_dict1 = }')"
   ]
  },
  {
   "cell_type": "markdown",
   "metadata": {},
   "source": [
    "# 응용"
   ]
  },
  {
   "cell_type": "code",
   "execution_count": 74,
   "metadata": {},
   "outputs": [
    {
     "name": "stdout",
     "output_type": "stream",
     "text": [
      "입력한 문자열은: 가나다라마\n",
      "['가', '가나', '가나다', '가나다라', '가나다라마', '나', '나다', '나다라', '나다라마', '다', '다라', '다라마', '라', '라마', '마']\n"
     ]
    }
   ],
   "source": [
    "# 문자열을 입력하면 그 문자열이 포함하는 모든 문자열을 리스트에 담는 코드를 만들었습니다.\n",
    "x = input('처리할 문자열을 입력: ')\n",
    "print(f'입력한 문자열은: {x}')\n",
    "\n",
    "x_list = []\n",
    "\n",
    "for i in range(len(x)): # 문자열 슬라이싱 시작할 부분을 결정.\n",
    "    for j in range(len(x)-i): # 문자열 슬라이싱 끝낼 부분을 결정.\n",
    "        x_list.append(x[i:i+j+1]) # 슬라이싱해서 리스트에 저장(추가).\n",
    "\n",
    "# 잘 작동되었는지 검증하는 코드입니다.\n",
    "test = True\n",
    "\n",
    "for i in range(len(x_list)): # 리스트의 모든 항목을 대상으로\n",
    "    if x_list[i] not in x: # 그 항목이 x 문자열에 포함되는지 판단.\n",
    "        print('error') # 포함되지 않는다면 에러 출력.\n",
    "        test = False # 문제가 있음을 기록함.\n",
    "\n",
    "# 문제가 없다면 리스트를 보여줍니다.\n",
    "if test:\n",
    "    print(x_list)\n",
    "\n",
    "# len() 함수, 슬라이싱, append 메서드, not in, 인덱싱을 사용해볼 수 있었네요."
   ]
  },
  {
   "cell_type": "code",
   "execution_count": 75,
   "metadata": {},
   "outputs": [
    {
     "data": {
      "text/plain": [
       "[1, 2, 3, 4]"
      ]
     },
     "execution_count": 75,
     "metadata": {},
     "output_type": "execute_result"
    }
   ],
   "source": [
    "# 딕셔너리를 list() 함수에 넣으면 key만을 이용해서 리스트를 구성한다는 것을 알았습니다.\n",
    "a = {1:'하나', 2:'둘', 3:'셋', 4:'넷'}\n",
    "list(a)"
   ]
  },
  {
   "cell_type": "code",
   "execution_count": 76,
   "metadata": {},
   "outputs": [
    {
     "name": "stdout",
     "output_type": "stream",
     "text": [
      "['1', '하나', '2', '둘', '3', '셋', '4', '넷']\n",
      "하나\n",
      "하나\n"
     ]
    }
   ],
   "source": [
    "# 그래서 딕셔너리를 입력하면 key와 value를 모두 리스트로 변환시키는 코드를 만들었습니다.\n",
    "a = {'1':'하나', '2':'둘', '3':'셋', '4':'넷'} # 임의의 딕셔너리.\n",
    "\n",
    "a_list = list(a) # a_list = ['1', '2', '3', '4'] 가 됨.\n",
    "\n",
    "for i in range(len(a)): # i = 0, 1, 2, 3 으로 대입됨.\n",
    "    a_list.insert(i*2 +1, a[a_list[i*2]]) # 리스트에서 index를 찾고, 딕셔너리에서 항목을 찾아, 리스트에 insert.\n",
    "\n",
    "print(a_list)\n",
    "\n",
    "# 리스트에서 2의 배수 index의 항목들이 key가 되고 그 다음 오는 항목들이 value가 됩니다.\n",
    "print(a['1']) # '1' key의 value를 찾는 코드는\n",
    "\n",
    "print(a_list[a_list.index('1') +1]) # 이렇게 변형됩니다.\n"
   ]
  }
 ],
 "metadata": {
  "kernelspec": {
   "display_name": "base",
   "language": "python",
   "name": "python3"
  },
  "language_info": {
   "codemirror_mode": {
    "name": "ipython",
    "version": 3
   },
   "file_extension": ".py",
   "mimetype": "text/x-python",
   "name": "python",
   "nbconvert_exporter": "python",
   "pygments_lexer": "ipython3",
   "version": "3.12.8"
  }
 },
 "nbformat": 4,
 "nbformat_minor": 2
}
