{
 "cells": [
  {
   "cell_type": "markdown",
   "id": "47c16374",
   "metadata": {},
   "source": [
    "# 제어문\n",
    "\n",
    "- 분기문(branch) : 조건에 따라 코드의 실행 경로 변경. => if, if-else, if-elif-else\n",
    "\n",
    "- 반복문(loop) : 코드를 반복적으로 실행. => for, while (반복할 때마다 함수를 콜하는데, 함수 콜이 원래 시간이 오래걸려서 비효율적이게 됨.)\n",
    "\n",
    "- 예외처리문(exception) : 코드 실행 중에 발생하는 예외를 처리. => try-except\n",
    "\n",
    "# 분기문"
   ]
  },
  {
   "cell_type": "code",
   "execution_count": 25,
   "id": "99c4338e",
   "metadata": {},
   "outputs": [
    {
     "name": "stdout",
     "output_type": "stream",
     "text": [
      "조건이 참입니다.\n",
      "종료되었습니다.\n"
     ]
    }
   ],
   "source": [
    "# 조건이 참이면 아래의 코드 블록을 실행.\n",
    "if True: # 끝은 콜론\n",
    "    # 들여쓰기로 if문 범위 지정\n",
    "    print('조건이 참입니다.')\n",
    "# 여기부터 if문의 범위 아님.\n",
    "print('종료되었습니다.')"
   ]
  },
  {
   "cell_type": "code",
   "execution_count": 26,
   "id": "a6ef82e8",
   "metadata": {},
   "outputs": [
    {
     "name": "stdout",
     "output_type": "stream",
     "text": [
      "종료되었습니다.\n"
     ]
    }
   ],
   "source": [
    "# 조건이 참이면 아래의 코드 블록을 실행. -> 거짓이므로 실행되지 않음.\n",
    "if False:\n",
    "    print('조건이 참입니다.')\n",
    "\n",
    "print('종료되었습니다.')"
   ]
  },
  {
   "cell_type": "markdown",
   "id": "e76c40a3",
   "metadata": {},
   "source": [
    "## if문"
   ]
  },
  {
   "cell_type": "code",
   "execution_count": 27,
   "id": "84f4222f",
   "metadata": {},
   "outputs": [
    {
     "name": "stdout",
     "output_type": "stream",
     "text": [
      "걸어간다.\n"
     ]
    }
   ],
   "source": [
    "money = 100\n",
    "\n",
    "# 조건은 (money <= 500)이고, 조건이 참이면 아래의 코드 블록을 실행\n",
    "if money <= 500:\n",
    "    # 들여쓰기로 if 문장의 범위를 지정\n",
    "    print('걸어간다.')"
   ]
  },
  {
   "cell_type": "markdown",
   "id": "4b2433bc",
   "metadata": {},
   "source": [
    "## if-else 문"
   ]
  },
  {
   "cell_type": "code",
   "execution_count": 28,
   "id": "5e077835",
   "metadata": {},
   "outputs": [
    {
     "name": "stdout",
     "output_type": "stream",
     "text": [
      "택시탄다.\n"
     ]
    }
   ],
   "source": [
    "money = 1000\n",
    "\n",
    "if money <= 500:  # if 문장의 끝은 콜론(:)\n",
    "    print('걸어간다.')  # 들여쓰기로 if 문장의 범위를 지정\n",
    "else:  # else 문장의 끝은 콜론(:)\n",
    "    print('택시탄다.')  # 들여쓰기로 else 문장의 범위를 지정"
   ]
  },
  {
   "cell_type": "markdown",
   "id": "1e2cff50",
   "metadata": {},
   "source": [
    "## if-elif-else 문"
   ]
  },
  {
   "cell_type": "code",
   "execution_count": 29,
   "id": "90d889bc",
   "metadata": {},
   "outputs": [
    {
     "name": "stdout",
     "output_type": "stream",
     "text": [
      "버스탄다.\n"
     ]
    }
   ],
   "source": [
    "money = 1000\n",
    "\n",
    "# 조건은 (money <= 500)이고, 조건이 참이면 아래의 코드를 실행.\n",
    "if money <= 500:\n",
    "    print('걸어간다.')\n",
    "\n",
    "# 조건은 (money <= 2500)이고, 조건이 참이면 아래의 코드를 실행.\n",
    "elif money <= 2500:\n",
    "    print('버스탄다.')\n",
    "\n",
    "# 위의 조건이 모두 거짓이면 아래의 코드를 실행\n",
    "else:\n",
    "    print('택시탄다.')"
   ]
  },
  {
   "cell_type": "markdown",
   "id": "22738371",
   "metadata": {},
   "source": [
    "# 반복문\n",
    "\n",
    "## while문"
   ]
  },
  {
   "cell_type": "code",
   "execution_count": 30,
   "id": "3a259271",
   "metadata": {},
   "outputs": [
    {
     "name": "stdout",
     "output_type": "stream",
     "text": [
      "n= 1\n",
      "n= 2\n",
      "n= 3\n",
      "n= 4\n",
      "n= 5\n"
     ]
    }
   ],
   "source": [
    "# 종료 조건을 위한 변수 설정\n",
    "n = 0\n",
    "\n",
    "# n이 5보다 작은 동안 아래의 코드를 반복하여 실행\n",
    "# n이 5가 되면 while문을 빠져나옴(종료조건)\n",
    "while n < 5:    # while 문장의 끝은 콜론(:)\n",
    "    # 들여쓰기로 while 문장의 범위를 지정\n",
    "    # n을 1 증가. n += 1과 같은 의미.\n",
    "    n = n+1\n",
    "    print(\"n=\", n)"
   ]
  },
  {
   "cell_type": "markdown",
   "id": "99d02c4e",
   "metadata": {},
   "source": [
    "## for문"
   ]
  },
  {
   "cell_type": "code",
   "execution_count": 31,
   "id": "e04031b1",
   "metadata": {},
   "outputs": [
    {
     "name": "stdout",
     "output_type": "stream",
     "text": [
      "n= 0\n",
      "n= 1\n",
      "n= 2\n",
      "n= 3\n",
      "n= 4\n",
      "n= 5\n"
     ]
    }
   ],
   "source": [
    "# n에 0부터 5까지 할당. range(0,6)은 0부터 5까지의 범위를 의미\n",
    "for n in range(0,6):\n",
    "    print(\"n=\", n)    # indent 들여쓰기로 for 문의 범위를 지정"
   ]
  },
  {
   "cell_type": "code",
   "execution_count": 32,
   "id": "585735c6",
   "metadata": {},
   "outputs": [
    {
     "name": "stdout",
     "output_type": "stream",
     "text": [
      "item = 1\n",
      "item = 2\n",
      "item = 3\n",
      "item = 4\n",
      "item = 5\n"
     ]
    }
   ],
   "source": [
    "x_list = [1,2,3,4,5]\n",
    "\n",
    "# x_list의 원소를 item에 할당 후 item 출력.\n",
    "for item in x_list:\n",
    "    print(f'{item = }')"
   ]
  },
  {
   "cell_type": "code",
   "execution_count": 33,
   "id": "19bbbed6",
   "metadata": {},
   "outputs": [
    {
     "name": "stdout",
     "output_type": "stream",
     "text": [
      "<built-in function len>(x) = 5\n",
      "<built-in function max>(x) = 50\n",
      "<built-in function sum>(x) = 150\n"
     ]
    }
   ],
   "source": [
    "# 파이썬을 함수도 객체이므로 iterable 객체로 사용 가능.\n",
    "# built-in 함수 => len, max, sum, zip, map, filter\n",
    "\n",
    "x = [10,20,30,40,50]\n",
    "\n",
    "# len(), max(), sum()을 순서대로 method에 할당\n",
    "for method in [len, max, sum]:\n",
    "    # method(x) 를 출력.\n",
    "    print(f'{method}(x) = {method(x)}')"
   ]
  },
  {
   "cell_type": "markdown",
   "id": "668debc8",
   "metadata": {},
   "source": [
    "## enumerate 함수를 이용한 for문"
   ]
  },
  {
   "cell_type": "code",
   "execution_count": 34,
   "id": "59c211ad",
   "metadata": {},
   "outputs": [
    {
     "name": "stdout",
     "output_type": "stream",
     "text": [
      "item = (0, 'a')\n",
      "item = (1, 'b')\n",
      "item = (2, 'c')\n",
      "item = (3, 'd')\n",
      "item = (4, 'e')\n"
     ]
    }
   ],
   "source": [
    "# enumerate 를 이용하여 인덱스와 리스트의 튜플을 생성.\n",
    "for item in enumerate(['a', 'b', 'c', 'd', 'e']):\n",
    "    print(f'{item = }')"
   ]
  },
  {
   "cell_type": "code",
   "execution_count": 35,
   "id": "ed096455",
   "metadata": {},
   "outputs": [
    {
     "name": "stdout",
     "output_type": "stream",
     "text": [
      "i = 0, item ='a'\n",
      "i = 1, item ='b'\n",
      "i = 2, item ='c'\n",
      "i = 3, item ='d'\n",
      "i = 4, item ='e'\n"
     ]
    }
   ],
   "source": [
    "# enumerate 를 이용하여 인덱스와 리스트의 튜플을 i와 item에 할당\n",
    "for i, item in enumerate(['a', 'b', 'c', 'd', 'e']):\n",
    "    print(f'{i = }, {item =}')"
   ]
  },
  {
   "cell_type": "markdown",
   "id": "1c3613a2",
   "metadata": {},
   "source": [
    "## zip 함수를 이용한 for 문"
   ]
  },
  {
   "cell_type": "code",
   "execution_count": 36,
   "id": "b622672e",
   "metadata": {},
   "outputs": [
    {
     "data": {
      "text/plain": [
       "<zip at 0x1407c858d00>"
      ]
     },
     "execution_count": 36,
     "metadata": {},
     "output_type": "execute_result"
    }
   ],
   "source": [
    "x_list = [1,2,3,4,5]\n",
    "y_tuple = ['a', 'b', 'c', 'd', 'e']\n",
    "z_str = 'ABCDE'\n",
    "\n",
    "# zip 함수는 iterable 객체를 받아서 같은 인덱스끼리 묶어서 zip 객체를 반환.\n",
    "zip(x_list, y_tuple, z_str)"
   ]
  },
  {
   "cell_type": "code",
   "execution_count": 37,
   "id": "57135c0e",
   "metadata": {},
   "outputs": [
    {
     "data": {
      "text/plain": [
       "[(1, 'a', 'A'), (2, 'b', 'B'), (3, 'c', 'C'), (4, 'd', 'D'), (5, 'e', 'E')]"
      ]
     },
     "execution_count": 37,
     "metadata": {},
     "output_type": "execute_result"
    }
   ],
   "source": [
    "# zip 객체를 list 로 변환하여 zip() 동작 확인\n",
    "\n",
    "list(zip(x_list, y_tuple, z_str))"
   ]
  },
  {
   "cell_type": "code",
   "execution_count": 38,
   "id": "9b0d7c23",
   "metadata": {},
   "outputs": [
    {
     "name": "stdout",
     "output_type": "stream",
     "text": [
      "x = 1, y = 'a', z = 'A'\n",
      "x = 2, y = 'b', z = 'B'\n",
      "x = 3, y = 'c', z = 'C'\n",
      "x = 4, y = 'd', z = 'D'\n",
      "x = 5, y = 'e', z = 'E'\n"
     ]
    }
   ],
   "source": [
    "for x,y,z in zip(x_list, y_tuple, z_str):\n",
    "    print(f'{x = }, {y = }, {z = }')"
   ]
  },
  {
   "cell_type": "code",
   "execution_count": 39,
   "id": "b85406bd",
   "metadata": {},
   "outputs": [
    {
     "name": "stdout",
     "output_type": "stream",
     "text": [
      "i = 0, x = 1, y = 'a', z = 'A'\n",
      "i = 1, x = 2, y = 'b', z = 'B'\n",
      "i = 2, x = 3, y = 'c', z = 'C'\n",
      "i = 3, x = 4, y = 'd', z = 'D'\n",
      "i = 4, x = 5, y = 'e', z = 'E'\n"
     ]
    }
   ],
   "source": [
    "for i, (x,y,z) in enumerate(zip(x_list, y_tuple, z_str)):\n",
    "    print(f'{i = }, {x = }, {y = }, {z = }')"
   ]
  },
  {
   "cell_type": "markdown",
   "id": "f0de9afb",
   "metadata": {},
   "source": [
    "# break, continue, pass, exit 로 제어문 통제\n",
    "\n",
    "- break: 반복문 종료하고 다음 코드로 넘어감.\n",
    "- continue: 반복 도중 나머지 코드를 종료하고 다음 반복으로 넘어감.\n",
    "- pass: 아무것도 하지 않고 다음 코드로 넘어감.\n",
    "- exit: 프로그램을 종료함.\n",
    "    - 주피터 노트북에서는 exit하면 커널 재시작해야함. 셧다운 기능."
   ]
  },
  {
   "cell_type": "code",
   "execution_count": 40,
   "id": "367c12ed",
   "metadata": {},
   "outputs": [
    {
     "name": "stdout",
     "output_type": "stream",
     "text": [
      "i = 0, item = 'a'\n",
      "i = 1, item = 'b'\n"
     ]
    }
   ],
   "source": [
    "for i, item in enumerate(['a', 'b', 'c', 'd', 'e']):\n",
    "    # i가 2이면\n",
    "    if i == 2:\n",
    "        # for 문을 빠져나옴.\n",
    "        break\n",
    "    # break 이후의 이 코드는 실행되지 않음.\n",
    "    print(f'{i = }, {item = }')"
   ]
  },
  {
   "cell_type": "code",
   "execution_count": 41,
   "id": "07a61410",
   "metadata": {},
   "outputs": [
    {
     "name": "stdout",
     "output_type": "stream",
     "text": [
      "i = 0, item = 'a'\n",
      "i = 1, item = 'b'\n",
      "i = 3, item = 'd'\n",
      "i = 4, item = 'e'\n"
     ]
    }
   ],
   "source": [
    "for i, item in enumerate(['a', 'b', 'c', 'd', 'e']):\n",
    "    if i == 2:\n",
    "        # for 문의 다음 반복으로 이동.\n",
    "        continue\n",
    "    # continue 실행될때만 이 코드는 실행되지 않음.\n",
    "    print(f'{i = }, {item = }')"
   ]
  },
  {
   "cell_type": "code",
   "execution_count": 42,
   "id": "a8caf6bb",
   "metadata": {},
   "outputs": [
    {
     "name": "stdout",
     "output_type": "stream",
     "text": [
      "i = 0, item = 'a'\n",
      "i = 1, item = 'b'\n",
      "i = 2, item = 'c'\n",
      "i = 3, item = 'd'\n",
      "i = 4, item = 'e'\n"
     ]
    }
   ],
   "source": [
    "for i, item in enumerate(['a', 'b', 'c', 'd', 'e']):\n",
    "    if i == 2:\n",
    "        # 아무것도 하지 않음.\n",
    "        pass\n",
    "    # pass문이 실행되어도 이 코드는 실행됨.\n",
    "    print(f'{i = }, {item = }')"
   ]
  },
  {
   "cell_type": "code",
   "execution_count": 43,
   "id": "2f6ed993",
   "metadata": {},
   "outputs": [
    {
     "name": "stdout",
     "output_type": "stream",
     "text": [
      "i = 0, item = 'a'\n",
      "i = 1, item = 'b'\n",
      "여기에서 실제로는 종료됨. 편의를 위해 주석처리\n",
      "i = 2, item = 'c'\n",
      "i = 3, item = 'd'\n",
      "i = 4, item = 'e'\n"
     ]
    }
   ],
   "source": [
    "for i, item in enumerate(['a', 'b', 'c', 'd', 'e']):\n",
    "    if i == 2:\n",
    "        # 프로그램을 종료. 0은 정상종료를 의미\n",
    "        # exit(0)\n",
    "        print('여기에서 실제로는 종료됨. 편의를 위해 주석처리')\n",
    "    print(f'i = {i}, {item = }')"
   ]
  },
  {
   "cell_type": "markdown",
   "id": "0ff61e43",
   "metadata": {},
   "source": [
    "## 중첩 제어문"
   ]
  },
  {
   "cell_type": "code",
   "execution_count": 44,
   "id": "1134d982",
   "metadata": {},
   "outputs": [
    {
     "name": "stdout",
     "output_type": "stream",
     "text": [
      "1x1= 1\t2x1= 2\t3x1= 3\t4x1= 4\t5x1= 5\t6x1= 6\t7x1= 7\t8x1= 8\t9x1= 9\t\n",
      "1x2= 2\t2x2= 4\t3x2= 6\t4x2= 8\t5x2=10\t6x2=12\t7x2=14\t8x2=16\t9x2=18\t\n",
      "1x3= 3\t2x3= 6\t3x3= 9\t4x3=12\t5x3=15\t6x3=18\t7x3=21\t8x3=24\t9x3=27\t\n",
      "1x4= 4\t2x4= 8\t3x4=12\t4x4=16\t5x4=20\t6x4=24\t7x4=28\t8x4=32\t9x4=36\t\n",
      "1x5= 5\t2x5=10\t3x5=15\t4x5=20\t5x5=25\t6x5=30\t7x5=35\t8x5=40\t9x5=45\t\n",
      "1x6= 6\t2x6=12\t3x6=18\t4x6=24\t5x6=30\t6x6=36\t7x6=42\t8x6=48\t9x6=54\t\n",
      "1x7= 7\t2x7=14\t3x7=21\t4x7=28\t5x7=35\t6x7=42\t7x7=49\t8x7=56\t9x7=63\t\n",
      "1x8= 8\t2x8=16\t3x8=24\t4x8=32\t5x8=40\t6x8=48\t7x8=56\t8x8=64\t9x8=72\t\n",
      "1x9= 9\t2x9=18\t3x9=27\t4x9=36\t5x9=45\t6x9=54\t7x9=63\t8x9=72\t9x9=81\t\n"
     ]
    }
   ],
   "source": [
    "# i는 1부터 9까지 반복\n",
    "for i in range(1, 10):\n",
    "    # j는 1부터 9까지 반복\n",
    "    for j in range(1, 10):\n",
    "        # end='\\t'는 출력 후 탭을 적용하고 줄바꿈은 하지 않음\n",
    "        print(f'{j}x{i}={j*i:>2d}', end='\\t')\n",
    "    if j == 9:\n",
    "        # 한 줄 띄움\n",
    "        print()"
   ]
  },
  {
   "cell_type": "markdown",
   "id": "ce7159b0",
   "metadata": {},
   "source": [
    "# 응용"
   ]
  },
  {
   "cell_type": "code",
   "execution_count": 45,
   "id": "0f2bf6f2",
   "metadata": {},
   "outputs": [
    {
     "name": "stdout",
     "output_type": "stream",
     "text": [
      "20x20=400   20x18=360   20x16=320   20x14=280   20x12=240   20x10=200   20x 8=160   20x 6=120   20x 4= 80   20x 2= 40   \n",
      "18x20=360   18x18=324   18x16=288   18x14=252   18x12=216   18x10=180   18x 8=144   18x 6=108   18x 4= 72   18x 2= 36   \n",
      "16x20=320   16x18=288   16x16=256   16x14=224   16x12=192   16x10=160   16x 8=128   16x 6= 96   16x 4= 64   16x 2= 32   \n",
      "14x20=280   14x18=252   14x16=224   14x14=196   14x12=168   14x10=140   14x 8=112   14x 6= 84   14x 4= 56   14x 2= 28   \n",
      "12x20=240   12x18=216   12x16=192   12x14=168   12x12=144   12x10=120   12x 8= 96   12x 6= 72   12x 4= 48   12x 2= 24   \n",
      "10x20=200   10x18=180   10x16=160   10x14=140   10x12=120   10x10=100   10x 8= 80   10x 6= 60   10x 4= 40   10x 2= 20   \n",
      " 8x20=160    8x18=144    8x16=128    8x14=112    8x12= 96    8x10= 80    8x 8= 64    8x 6= 48    8x 4= 32    8x 2= 16   \n",
      " 6x20=120    6x18=108    6x16= 96    6x14= 84    6x12= 72    6x10= 60    6x 8= 48    6x 6= 36    6x 4= 24    6x 2= 12   \n",
      " 4x20= 80    4x18= 72    4x16= 64    4x14= 56    4x12= 48    4x10= 40    4x 8= 32    4x 6= 24    4x 4= 16    4x 2=  8   \n",
      " 2x20= 40    2x18= 36    2x16= 32    2x14= 28    2x12= 24    2x10= 20    2x 8= 16    2x 6= 12    2x 4=  8    2x 2=  4   \n"
     ]
    }
   ],
   "source": [
    "# 우선 수업시간에 했던, 20단을 거꾸로 짝수만 쓰는 코드입니다.\n",
    "\n",
    "for i in range(20, 1, -2):\n",
    "    for j in range(20, 1, -2):\n",
    "        print(f'{i:>2d}x{j:>2d}={i*j:>3d}', end='   ')\n",
    "        if j == 2:\n",
    "            print()\n",
    "  "
   ]
  },
  {
   "cell_type": "code",
   "execution_count": 47,
   "id": "b94a5336",
   "metadata": {},
   "outputs": [
    {
     "name": "stdout",
     "output_type": "stream",
     "text": [
      "풀 문제의 번호: 문자\n",
      "숫자를 입력해주세요.\n",
      "풀 문제의 번호: 90\n",
      "90번 문제는 존재하지 않습니다.\n",
      "풀 문제의 번호: 50\n",
      "5x6 = 31 일까요?\n",
      "틀렸습니다!\n",
      "5x6 = 30 일까요?\n",
      "맞추었습니다!\n",
      "풀 문제의 번호: 80\n",
      "8x9 = 72 일까요?\n",
      "맞추었습니다!\n",
      "프로그램 종료.\n"
     ]
    }
   ],
   "source": [
    "# 구구단 퀴즈를 맞춰보는 프로그램을 짜보았습니다.\n",
    "\n",
    "quiz = [] # 빈 리스트 생성.\n",
    "\n",
    "for i in range(1, 10):\n",
    "    for j in range(1, 10):\n",
    "        quiz.append( (f'{j}x{i}', f'{j*i}') ) # ('1x1', '1') 꼴로 문제, 정답의 튜플들을 리스트에 저장.\n",
    "\n",
    "while True: # 무한 반복.\n",
    "    numStr = input(f'몇 번 문제를 풀어볼까요?(존재하는 문제 개수: {len(quiz)}) : ') # 문제 개수를 알려주고, 풀 문제의 번호를 받음.\n",
    "    print(f'풀 문제의 번호: {numStr}')\n",
    "    \n",
    "    try:\n",
    "        num = int(numStr) # 받은 숫자를 int로 변환 시도. \n",
    "    except:\n",
    "        print('숫자를 입력해주세요.') # 에러날 경우, 경고 띄움.\n",
    "        continue # 다시 번호를 받게 함.\n",
    "        \n",
    "    if num<1 or num>len(quiz): # 문제 번호가 존재하는지 확인.\n",
    "        print(f'{num}번 문제는 존재하지 않습니다.') # 문제 번호가 존재 안하면 경고 띄움.\n",
    "        continue # 다시 번호를 받게 함.\n",
    "    else:\n",
    "        while True: # 무한 반복.\n",
    "            answer = input(f'문제! {quiz[num-1][0]} = ? : ') # 리스트로부터 문제를 참조해 질문함.\n",
    "            print(f'{quiz[num-1][0]} = {answer} 일까요?') # 입력한 답을 출력.\n",
    "            if answer == quiz[num-1][1]: # 맞추었는지 확인.\n",
    "                print('맞추었습니다!') # 맞춘 경우 메시지.\n",
    "                break # 맞추었을 경우 반복에서 탈출.\n",
    "            else:\n",
    "                print('틀렸습니다!') # 틀린 경우 메시지.\n",
    "                retry = input('다시 시도해볼까요?(y,n) : ') # 틀린 경우, 다시 시도할 지 질문.\n",
    "                if retry == 'y':\n",
    "                    pass # 다시 시도할 경우 다시 문제를 맞추도록 돌아감.\n",
    "                else:\n",
    "                    break # 다시 시도하지 않을 경우 반복에서 탈출.\n",
    "        \n",
    "        restart = input('다른 문제를 풀어볼까요?(y,n) : ') # 반복에서 탈출한 후, 다른 문제를 풀지 질문.\n",
    "        if restart != 'y':\n",
    "            break # 다시 풀지 않을 경우 프로그램 종료. 아니면 처음으로 돌아가게 됨.\n",
    "\n",
    "print('프로그램 종료.')\n",
    "\n",
    "# input() 함수의 메시지가 출력창에 안 나오긴 합니다만.. 코드는 정상 작동합니다.\n",
    "# for, while, try-except, if, if-else, break, continue, pass를 사용해볼 수 있었습니다."
   ]
  }
 ],
 "metadata": {
  "kernelspec": {
   "display_name": "base",
   "language": "python",
   "name": "python3"
  },
  "language_info": {
   "codemirror_mode": {
    "name": "ipython",
    "version": 3
   },
   "file_extension": ".py",
   "mimetype": "text/x-python",
   "name": "python",
   "nbconvert_exporter": "python",
   "pygments_lexer": "ipython3",
   "version": "3.12.8"
  }
 },
 "nbformat": 4,
 "nbformat_minor": 5
}
