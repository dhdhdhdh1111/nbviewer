{
 "cells": [
  {
   "cell_type": "markdown",
   "metadata": {},
   "source": [
    "C521042 양대현\n",
    "\n",
    "# 데이터의 연산\n",
    "\n",
    "연산자\n",
    "\n",
    "산술 연산자 > 관계 연산자 > 논리 연산자\n",
    "\n",
    "연산\n",
    "\n",
    "산술 연산\n",
    "\n",
    "+: 덧셈\n",
    "-: 뺄셈\n",
    "*: 곱셈\n",
    "/: 나눗셈\n",
    "//: 몫 연산\n",
    "%: 나머지 연산\n",
    "**: 거듭제곱"
   ]
  },
  {
   "cell_type": "code",
   "execution_count": null,
   "metadata": {},
   "outputs": [],
   "source": [
    "print(f'{2+3 = }') # 정수 + 정수 = 정수\n",
    "print(f'{2.0+3 = }') # 실수 + 정수 = 실수\n",
    "print(f'{2.0+3.0 = }') # 실수 + 실수 = 실수\n",
    "print(f'{'2'+'3' = }') # 문자열 + 문자열 = 문자열\n",
    "\n",
    "# 에러 발생\n",
    "try:\n",
    "    print(f'{2+'3' = }') # 정수 + 문자열 = 에러\n",
    "except Exception as e:\n",
    "    print(e)\n"
   ]
  },
  {
   "cell_type": "code",
   "execution_count": null,
   "metadata": {},
   "outputs": [],
   "source": [
    "print(f'{2-3 = }') # 정수 - 정수 = 정수\n",
    "print(f'{2.0-3 = }') # 실수 - 정수 = 실수\n",
    "print(f'{2.0-3.0 = }') # 실수 - 실수 = 실수\n",
    "print(f'{2*3 = }') # 정수 * 정수 = 정수\n",
    "print(f'{2.0*3 = }') # 실수 * 정수 = 실수\n",
    "print(f'{2.0*3.0 = }') # 실수 * 실수 = 실수\n",
    "print(f'{2/3 = }') # 정수 / 정수 = 실수\n",
    "print(f'{2.0/3 = }') # 실수 / 정수 = 실수\n",
    "print(f'{2.0/3.0 = }') # 실수 / 실수 = 실수"
   ]
  },
  {
   "cell_type": "code",
   "execution_count": null,
   "metadata": {},
   "outputs": [],
   "source": [
    "# 나눗셈 후 몫\n",
    "print(f'20//3 = {20//3}')  \n",
    "\n",
    "# 나눗셈 후 나머지\n",
    "print(f'20%3 = {20%3}')  "
   ]
  },
  {
   "cell_type": "code",
   "execution_count": null,
   "metadata": {},
   "outputs": [],
   "source": [
    "# 거듭제곱\n",
    "print(f'2**3 = {2**3}')"
   ]
  },
  {
   "cell_type": "code",
   "execution_count": null,
   "metadata": {},
   "outputs": [],
   "source": [
    "# 문자열과 문자열의 합\n",
    "var_x = \"Abc\"\n",
    "print(f'var_x + var_x = {var_x + var_x}')\n",
    "\n",
    "# 리스트와 리스트의 합\n",
    "var_y = [100, 2, 3]\n",
    "print(f'var_y + var_y = {var_y + var_y}')\n",
    "\n",
    "# 문자열과 정수의 곱\n",
    "print(f'var_x * 3 = {var_x * 3}')\n",
    "\n",
    "# 리스트와 정수의 곱\n",
    "print(f'var_y * 3 = {var_y * 3}')"
   ]
  },
  {
   "cell_type": "markdown",
   "metadata": {},
   "source": [
    "비교 연산\n",
    "\n",
    "== : 같다\n",
    "!= : 같지 않다.\n",
    "\\>,< : 크다, 작다\n",
    "\\>=, <= : 크거나 같다, 작거나 같다."
   ]
  },
  {
   "cell_type": "code",
   "execution_count": null,
   "metadata": {},
   "outputs": [],
   "source": [
    "print(f'{2==3 = }')\n",
    "print(f'{2!=3 = }')\n",
    "print(f'{2>3 = }')\n",
    "print(f'{2<3 = }')\n",
    "print(f'{2>=3 = }')\n",
    "print(f'{2<=3 = }')"
   ]
  },
  {
   "cell_type": "code",
   "execution_count": null,
   "metadata": {},
   "outputs": [],
   "source": [
    "# 변수 var_y에 리스트 [1, 2, 3]을 할당\n",
    "var_y = [1, 2, 3]\n",
    "\n",
    "print(f'{(var_y == [1, 2, 3]) = }') # var_y와 [1, 2, 3]이 같은지 비교\n",
    "print(f'{(var_y != [1, 2, 3]) = }') # var_y와 [1, 2, 3]이 같지 않은지 비교\n",
    "print(f'{(var_y == [1, 2]) = }') # var_y와 [1, 2]가 같은지 비교\n",
    "print(f'{(var_y != [1, 2]) = }') # var_y와 [1, 2]가 같지 않은지 비교\n",
    "print(f'{(var_y > [1, 2]) = }') # var_y가 [1, 2]보다 큰지 비교\n",
    "print(f'{(var_y < [1, 2]) = }') # var_y가 [1, 2]보다 작은지 비교"
   ]
  },
  {
   "cell_type": "markdown",
   "metadata": {},
   "source": [
    "논리 연산\n",
    "\n",
    "and: 논리곱\n",
    "or: 논리합\n",
    "not: 논리부정"
   ]
  },
  {
   "cell_type": "code",
   "execution_count": null,
   "metadata": {},
   "outputs": [],
   "source": [
    "# True와 True를 and 연산\n",
    "True and True"
   ]
  },
  {
   "cell_type": "code",
   "execution_count": null,
   "metadata": {},
   "outputs": [],
   "source": [
    "# 변수 var_x에 불리언 True를 할당\n",
    "var_x = True\n",
    "\n",
    "# 변수 var_y에 10 < 20의 결과를 할당\n",
    "var_y = (10 < 20)\n",
    "\n",
    "print(f'{var_y = }') # var_y의 값을 출력\n",
    "print(f'{(var_x and var_y) = }') # var_x와 var_y의 논리곱을 출력\n",
    "print(f'{(var_x or var_y) = }') # var_x와 var_y의 논리합을 출력\n",
    "print(f'{(not var_x) = }') # var_x의 논리부정을 출력"
   ]
  },
  {
   "cell_type": "code",
   "execution_count": null,
   "metadata": {},
   "outputs": [],
   "source": [
    "# 관계연산자와 논리연산자를 함께 사용\n",
    "print(f'{(2==3) and (2!=3) = }')"
   ]
  },
  {
   "cell_type": "markdown",
   "metadata": {},
   "source": [
    "멤버십 연산\n",
    "\n",
    "in, not in"
   ]
  },
  {
   "cell_type": "code",
   "execution_count": null,
   "metadata": {},
   "outputs": [],
   "source": [
    "# 변수 var_y에 리스트 [1, 2, 3]을 할당\n",
    "var_y = [1, 2, 3]\n",
    "\n",
    "print(f'{(1 in var_y) = }') # 1이 var_y에 포함되어 있는지 확인\n",
    "print(f'{(\"1\" in var_y) = }') # 문자열 \"1\"이 var_y에 포함되어 있는지 확인\n",
    "print(f'{(4 in var_y) = }') # 4가 var_y에 포함되어 있는지 확인\n",
    "print(f'{(1 not in var_y) = }') # 1이 var_y에 포함되어 있지 않은지 확인\n",
    "print(f'{(4 not in var_y) = }') # 4가 var_y에 포함되어 있지 않은지 확인"
   ]
  },
  {
   "cell_type": "markdown",
   "metadata": {},
   "source": [
    "식별 연산\n",
    "\n",
    "is, not is"
   ]
  },
  {
   "cell_type": "code",
   "execution_count": null,
   "metadata": {},
   "outputs": [],
   "source": [
    "# 변수 var_x에 정수 10을 할당\n",
    "var_x = 10\n",
    "\n",
    "# var_x가 10과 값이 같은 지 확인\n",
    "print(f'{var_x == 10}')\n",
    "\n",
    "# var_x가 10과 주소가 같은 지 확인 -> 경고 발생\n",
    "print(f'{var_x is 10}')"
   ]
  },
  {
   "cell_type": "code",
   "execution_count": null,
   "metadata": {},
   "outputs": [],
   "source": [
    "var_x = 10 # 변수 var_x에 정수 10을 할당\n",
    "var_y = 10.0 # 변수 var_y에 실수 10.0을 할당\n",
    "var_z = var_x # 변수 var_z에 var_x를 할당\n",
    "\n",
    "print(f'{var_x is var_y = }') # var_x와 var_y의 주소가 같은지 확인\n",
    "print(f'{var_x is var_z = }') # var_x와 var_z가 주소가 같은지 확인\n",
    "print(f'{var_x is not var_y = }') # var_x와 var_y의 주소가 다른지 확인\n",
    "print(f'{var_x is not var_z = }') # var_x와 var_z의 주소가 다른지 확인"
   ]
  },
  {
   "cell_type": "markdown",
   "metadata": {},
   "source": [
    "복합 대입 연산\n",
    "\n",
    "x += a : x = x + a\n",
    "x -= a : x = x - a\n",
    "x *= a : x = x * a\n",
    "x /= a : x = x / a\n",
    "x //= a : x = x // a\n",
    "x %= a : x = x % a\n",
    "x **= a : x = x ** a"
   ]
  },
  {
   "cell_type": "code",
   "execution_count": null,
   "metadata": {},
   "outputs": [],
   "source": [
    "var_x = 1\n",
    "\n",
    "# var_x = var_x + 1\n",
    "var_x += 1\n",
    "\n",
    "print(var_x)"
   ]
  },
  {
   "cell_type": "code",
   "execution_count": null,
   "metadata": {},
   "outputs": [],
   "source": [
    "var_x = 1\n",
    "\n",
    "# ; 세미콜론으로 한 줄에 여러 개의 명령어를 작성가능\n",
    "var_x += 10; print(var_x) # 더하기\n",
    "var_x -= 1; print(var_x) # 빼기\n",
    "var_x *= 2; print(var_x) # 곱하기\n",
    "var_x /= 2; print(var_x) # 나누기\n",
    "var_x //= 2; print(var_x) # 몫\n",
    "var_x %= 2; print(var_x) # 나머지\n",
    "var_x **= 2; print(var_x) # 거듭제곱"
   ]
  },
  {
   "cell_type": "markdown",
   "metadata": {},
   "source": [
    "연산의 중첨\n",
    "\n",
    "연산의 우선 순위\n",
    "(), **, *, /, //, %, +, -, ==, !=, >, <, >=, <=, not, and, or"
   ]
  },
  {
   "cell_type": "code",
   "execution_count": null,
   "metadata": {},
   "outputs": [],
   "source": [
    "print(2**3+5) # 2의 3제곱에 5를 더한 결과를 출력\n",
    "print(2**(3+5)) # 2의 3+5제곱을 출력\n",
    "print(2+3 < 4*5) # 2+3이 4*5보다 작거나 같은지를 출력\n",
    "print(not 2+3 < 4*5) # 2+3이 4*5보다 작거나 같지 않은지를 출력\n",
    "print(not ((2+3) <= (4*5))) # 2+3이 4*5보다 작거나 같지 않은지를 출력"
   ]
  },
  {
   "cell_type": "markdown",
   "metadata": {},
   "source": [
    "# 응용"
   ]
  },
  {
   "cell_type": "code",
   "execution_count": null,
   "metadata": {},
   "outputs": [],
   "source": [
    "# 참은 int로 하면 1, 거짓은 int로 하면 0 입니다.\n",
    "\n",
    "print(int(True))\n",
    "print(int(False))"
   ]
  },
  {
   "cell_type": "code",
   "execution_count": null,
   "metadata": {},
   "outputs": [],
   "source": [
    "# 이를 이용한, 다양한 조건문들중 참의 개수를 세는 코드입니다.\n",
    "\n",
    "point = 0\n",
    "\n",
    "point += int(1<3 and 5<3) # 거짓 => 0\n",
    "point += int(2+3==1+4 or False) # 참 => 1\n",
    "point += int(2*4>=3 and not 5<=4) # 참 => 1\n",
    "\n",
    "print(f'참의 개수는 {point}')"
   ]
  },
  {
   "cell_type": "code",
   "execution_count": 9,
   "metadata": {},
   "outputs": [
    {
     "name": "stdout",
     "output_type": "stream",
     "text": [
      "True\n",
      "True\n",
      "True\n",
      "True\n",
      "\n",
      "False\n",
      "False\n"
     ]
    }
   ],
   "source": [
    "a = 1\n",
    "b = a\n",
    "\n",
    "print(a is b) # b = a 를 했을 때, b는 a와 같은 주소를 가리키게 됩니다.\n",
    "\n",
    "c = 1\n",
    "d = c+0\n",
    "\n",
    "print(c is d)\n",
    "\n",
    "e = '가'\n",
    "f = e+''\n",
    "\n",
    "print(e is f)\n",
    "\n",
    "g = True\n",
    "h = g or False\n",
    "\n",
    "print(g is h, end='\\n\\n')\n",
    "\n",
    "# 위와 같이 의미없이 뒤에 무엇인가를 붙인 상황에서도 파이썬은 같은 주소를 배정해줍니다.ㄹ\n",
    "\n",
    "i = 10000\n",
    "j = 10000\n",
    "print(i is j) # 다만 큰 숫자의 경우는 같은 주소를 배정하지 않습니다.\n",
    "\n",
    "k=[1,2,3]\n",
    "l=[1,2,3]\n",
    "print(k is l) # 또, 리스트는 같은 주소를 배정하지 않습니다."
   ]
  }
 ],
 "metadata": {
  "kernelspec": {
   "display_name": "base",
   "language": "python",
   "name": "python3"
  },
  "language_info": {
   "codemirror_mode": {
    "name": "ipython",
    "version": 3
   },
   "file_extension": ".py",
   "mimetype": "text/x-python",
   "name": "python",
   "nbconvert_exporter": "python",
   "pygments_lexer": "ipython3",
   "version": "3.12.8"
  }
 },
 "nbformat": 4,
 "nbformat_minor": 2
}
